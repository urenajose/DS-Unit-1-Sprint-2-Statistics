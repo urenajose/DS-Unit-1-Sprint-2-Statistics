{
  "nbformat": 4,
  "nbformat_minor": 0,
  "metadata": {
    "colab": {
      "name": "Jose_Urena_DSPT8_123_Confidence_Intervals_Assignment.ipynb",
      "provenance": [],
      "collapsed_sections": [],
      "include_colab_link": true
    },
    "kernelspec": {
      "name": "python3",
      "display_name": "Python 3"
    }
  },
  "cells": [
    {
      "cell_type": "markdown",
      "metadata": {
        "id": "view-in-github",
        "colab_type": "text"
      },
      "source": [
        "<a href=\"https://colab.research.google.com/github/urenajose/DS-Unit-1-Sprint-2-Statistics/blob/master/Jose_Urena_DSPT8_123_Confidence_Intervals_Assignment.ipynb\" target=\"_parent\"><img src=\"https://colab.research.google.com/assets/colab-badge.svg\" alt=\"Open In Colab\"/></a>"
      ]
    },
    {
      "cell_type": "markdown",
      "metadata": {
        "id": "g_c3L9CeANiJ",
        "colab_type": "text"
      },
      "source": [
        "## Confidence Intervals\n",
        "\n",
        "The following url can be used to access an abbreviated version of responses to Stack Overflow's 2018 Developer Survey. The original Survey had ~100k respondents but the data is quite dirty so I have selected a cleaner subset of it for you to use for your assignment.\n",
        "\n",
        "<https://raw.githubusercontent.com/ryanleeallred/datasets/master/bootcampers.csv>\n",
        "\n",
        "The provided dataset holds 14 columns of information about individuals who make less than 500k per year and who responded that they had: \n",
        "\n",
        "\"Participated in a full-time developer training program or bootcamp\"\n",
        "\n",
        "## Part 1 - Setting the Stage\n",
        "\n",
        "**1) Load the dataset**"
      ]
    },
    {
      "cell_type": "code",
      "metadata": {
        "id": "Y7Uczg5jd8Xh",
        "colab_type": "code",
        "colab": {
          "base_uri": "https://localhost:8080/",
          "height": 70
        },
        "outputId": "12a2cf5e-dad2-404a-bbb4-b49c8d2d39fc"
      },
      "source": [
        "import pandas as pd\n",
        "import numpy as np\n",
        "import seaborn as sns\n",
        "import matplotlib.pyplot as plt\n",
        "from scipy.stats import ttest_ind\n",
        "from scipy import stats\n",
        "import copy\n",
        "import math"
      ],
      "execution_count": 1,
      "outputs": [
        {
          "output_type": "stream",
          "text": [
            "/usr/local/lib/python3.6/dist-packages/statsmodels/tools/_testing.py:19: FutureWarning: pandas.util.testing is deprecated. Use the functions in the public API at pandas.testing instead.\n",
            "  import pandas.util.testing as tm\n"
          ],
          "name": "stderr"
        }
      ]
    },
    {
      "cell_type": "code",
      "metadata": {
        "id": "PMimeRODmsl3",
        "colab_type": "code",
        "colab": {}
      },
      "source": [
        "pd.set_option('display.expand_frame_repr', False)"
      ],
      "execution_count": 2,
      "outputs": []
    },
    {
      "cell_type": "code",
      "metadata": {
        "id": "yXwMJQGrAIbO",
        "colab_type": "code",
        "colab": {}
      },
      "source": [
        "url = \"https://raw.githubusercontent.com/ryanleeallred/datasets/master/bootcampers.csv\""
      ],
      "execution_count": 3,
      "outputs": []
    },
    {
      "cell_type": "code",
      "metadata": {
        "id": "pYsFvm1dPygj",
        "colab_type": "code",
        "colab": {}
      },
      "source": [
        "bootc_df = pd.read_csv(url)"
      ],
      "execution_count": 4,
      "outputs": []
    },
    {
      "cell_type": "code",
      "metadata": {
        "id": "a6-DPJrDeVmd",
        "colab_type": "code",
        "colab": {
          "base_uri": "https://localhost:8080/",
          "height": 154
        },
        "outputId": "1aa3c163-7045-4d6a-cae9-6445f64b72f9"
      },
      "source": [
        "print(bootc_df.shape)\n",
        "print(bootc_df.head())\n"
      ],
      "execution_count": 5,
      "outputs": [
        {
          "output_type": "stream",
          "text": [
            "(2761, 15)\n",
            "   Unnamed: 0         Student          Employment                                     UndergradMajor                                            DevType  YearsCoding YearsCodingProf  ConvertedSalary                                     EducationTypes                                    SelfTaughtTypes                                  TimeAfterBootcamp                                 LanguageWorkedWith Gender                Age                 RaceEthnicity\n",
            "0          62              No  Employed full-time  Computer science, computer engineering, or sof...  Back-end developer;Data scientist or machine l...  12-14 years       6-8 years         120000.0  Taken an online course in programming or softw...  The official documentation and/or standards fo...  I already had a full-time job as a developer w...                          C;F#;Haskell;Python;Scala   Male  25 - 34 years old  White or of European descent\n",
            "1          73              No  Employed full-time  A humanities discipline (ex. literature, histo...  Back-end developer;Full-stack developer;System...    0-2 years       0-2 years          36000.0  Participated in a full-time developer training...  The official documentation and/or standards fo...                                 Four to six months            Java;JavaScript;SQL;HTML;CSS;Bash/Shell   Male  25 - 34 years old  White or of European descent\n",
            "2         127  Yes, full-time  Employed full-time  A business discipline (ex. accounting, finance...                               Full-stack developer    3-5 years       3-5 years          59980.0  Taken an online course in programming or softw...  The official documentation and/or standards fo...                                One to three months                  C#;JavaScript;TypeScript;HTML;CSS   Male  25 - 34 years old                    East Asian\n",
            "3         140              No  Employed full-time  A social science (ex. anthropology, psychology...  Data scientist or machine learning specialist;...   9-11 years       3-5 years          70000.0  Taken an online course in programming or softw...  Questions & answers on Stack Overflow;Tapping ...                   I haven’t gotten a developer job                          JavaScript;Python;SQL;VBA   Male  25 - 34 years old  White or of European descent\n",
            "4         153              No  Employed full-time  Computer science, computer engineering, or sof...                                   Mobile developer    6-8 years       3-5 years         105000.0  Taken an online course in programming or softw...  The official documentation and/or standards fo...                                One to three months  C;Java;JavaScript;Objective-C;PHP;Python;Ruby;...   Male  25 - 34 years old  White or of European descent\n"
          ],
          "name": "stdout"
        }
      ]
    },
    {
      "cell_type": "code",
      "metadata": {
        "id": "iXHMbzWGhEsj",
        "colab_type": "code",
        "colab": {
          "base_uri": "https://localhost:8080/",
          "height": 138
        },
        "outputId": "900c02e6-7994-4f40-99a4-72766fdda388"
      },
      "source": [
        "print(bootc_df.tail())"
      ],
      "execution_count": 6,
      "outputs": [
        {
          "output_type": "stream",
          "text": [
            "      Unnamed: 0         Student                              Employment                                     UndergradMajor                                            DevType YearsCoding YearsCodingProf  ConvertedSalary                                     EducationTypes                                    SelfTaughtTypes                                  TimeAfterBootcamp                                 LanguageWorkedWith Gender                Age                 RaceEthnicity\n",
            "2756       86961              No  Not employed, and not looking for work  Computer science, computer engineering, or sof...  Back-end developer;C-suite executive (CEO, CTO...  9-11 years      9-11 years         180000.0  Taken an online course in programming or softw...  Questions & answers on Stack Overflow;Online d...                                 Four to six months         JavaScript;Python;Ruby;HTML;CSS;Bash/Shell   Male  25 - 34 years old                Middle Eastern\n",
            "2757       87004  Yes, full-time  Not employed, and not looking for work  Another engineering discipline (ex. civil, ele...                       Full-stack developer;Student   3-5 years       0-2 years          36716.0  Taken an online course in programming or softw...  The official documentation and/or standards fo...  I already had a full-time job as a developer w...  C#;JavaScript;PHP;SQL;TypeScript;Delphi/Object...   Male  25 - 34 years old  White or of European descent\n",
            "2758       87054  Yes, part-time      Not employed, but looking for work  Information systems, information technology, o...  Back-end developer;Data or business analyst;Da...   0-2 years       3-5 years           2904.0  Taken an online course in programming or softw...  The official documentation and/or standards fo...                                  Less than a month        C++;Java;JavaScript;PHP;Python;SQL;HTML;CSS   Male  18 - 24 years old     Hispanic or Latino/Latina\n",
            "2759       87070              No      Not employed, but looking for work  A health science (ex. nursing, pharmacy, radio...                                   Mobile developer   0-2 years       0-2 years          60000.0  Taken an online course in programming or softw...  The official documentation and/or standards fo...                               Six months to a year                             C;C#;Objective-C;Swift   Male  18 - 24 years old   Black or of African descent\n",
            "2760       87131  Yes, full-time      Not employed, but looking for work  Computer science, computer engineering, or sof...            Back-end developer;QA or test developer   0-2 years       0-2 years           1332.0  Taken an online course in programming or softw...  Online developer communities other than Stack ...                   I haven’t gotten a developer job                           C++;Hack;Python;HTML;CSS   Male  18 - 24 years old                Middle Eastern\n"
          ],
          "name": "stdout"
        }
      ]
    },
    {
      "cell_type": "code",
      "metadata": {
        "id": "m1vuFGxVQo64",
        "colab_type": "code",
        "colab": {
          "base_uri": "https://localhost:8080/",
          "height": 255
        },
        "outputId": "e1b2d8d9-5826-42ab-bbae-898d5a635d6e"
      },
      "source": [
        "print(\"describe \\n\",bootc_df.describe(include=\"all\"))"
      ],
      "execution_count": 7,
      "outputs": [
        {
          "output_type": "stream",
          "text": [
            "describe \n",
            "           Unnamed: 0 Student          Employment                                     UndergradMajor               DevType YearsCoding YearsCodingProf  ConvertedSalary                                     EducationTypes                                    SelfTaughtTypes                                  TimeAfterBootcamp          LanguageWorkedWith Gender                Age                 RaceEthnicity\n",
            "count    2761.000000    2761                2761                                               2761                  2761        2761            2761      2761.000000                                               2761                                               2761                                               2761                        2761   2761               2761                          2761\n",
            "unique           NaN       3                   6                                                 12                   937          11              11              NaN                                                124                                                277                                                  8                        1771     10                  7                            33\n",
            "top              NaN      No  Employed full-time  Computer science, computer engineering, or sof...  Full-stack developer   3-5 years       3-5 years              NaN  Taken an online course in programming or softw...  The official documentation and/or standards fo...  I already had a full-time job as a developer w...  C#;JavaScript;SQL;HTML;CSS   Male  25 - 34 years old  White or of European descent\n",
            "freq             NaN    2371                2386                                               1527                   251         526             678              NaN                                                140                                                134                                               1495                          62   2494               1399                          1930\n",
            "mean    41208.962332     NaN                 NaN                                                NaN                   NaN         NaN             NaN     73453.404201                                                NaN                                                NaN                                                NaN                         NaN    NaN                NaN                           NaN\n",
            "std     23947.027421     NaN                 NaN                                                NaN                   NaN         NaN             NaN     57710.453235                                                NaN                                                NaN                                                NaN                         NaN    NaN                NaN                           NaN\n",
            "min        62.000000     NaN                 NaN                                                NaN                   NaN         NaN             NaN         0.000000                                                NaN                                                NaN                                                NaN                         NaN    NaN                NaN                           NaN\n",
            "25%     20096.000000     NaN                 NaN                                                NaN                   NaN         NaN             NaN     32628.000000                                                NaN                                                NaN                                                NaN                         NaN    NaN                NaN                           NaN\n",
            "50%     40573.000000     NaN                 NaN                                                NaN                   NaN         NaN             NaN     65340.000000                                                NaN                                                NaN                                                NaN                         NaN    NaN                NaN                           NaN\n",
            "75%     62085.000000     NaN                 NaN                                                NaN                   NaN         NaN             NaN    100000.000000                                                NaN                                                NaN                                                NaN                         NaN    NaN                NaN                           NaN\n",
            "max     87131.000000     NaN                 NaN                                                NaN                   NaN         NaN             NaN    499344.000000                                                NaN                                                NaN                                                NaN                         NaN    NaN                NaN                           NaN\n"
          ],
          "name": "stdout"
        }
      ]
    },
    {
      "cell_type": "code",
      "metadata": {
        "id": "CD1VND13hgDq",
        "colab_type": "code",
        "colab": {
          "base_uri": "https://localhost:8080/",
          "height": 286
        },
        "outputId": "b0464fce-2af6-4237-cb85-206bf82f258c"
      },
      "source": [
        "print(\"Sum of null\",bootc_df.isnull().sum())"
      ],
      "execution_count": 8,
      "outputs": [
        {
          "output_type": "stream",
          "text": [
            "Sum of null Unnamed: 0            0\n",
            "Student               0\n",
            "Employment            0\n",
            "UndergradMajor        0\n",
            "DevType               0\n",
            "YearsCoding           0\n",
            "YearsCodingProf       0\n",
            "ConvertedSalary       0\n",
            "EducationTypes        0\n",
            "SelfTaughtTypes       0\n",
            "TimeAfterBootcamp     0\n",
            "LanguageWorkedWith    0\n",
            "Gender                0\n",
            "Age                   0\n",
            "RaceEthnicity         0\n",
            "dtype: int64\n"
          ],
          "name": "stdout"
        }
      ]
    },
    {
      "cell_type": "code",
      "metadata": {
        "id": "I-796viDhfXk",
        "colab_type": "code",
        "colab": {
          "base_uri": "https://localhost:8080/",
          "height": 403
        },
        "outputId": "4d94e5c1-17df-44cd-fab2-e72bc2d53456"
      },
      "source": [
        "print(\"info\",bootc_df.info())"
      ],
      "execution_count": 9,
      "outputs": [
        {
          "output_type": "stream",
          "text": [
            "<class 'pandas.core.frame.DataFrame'>\n",
            "RangeIndex: 2761 entries, 0 to 2760\n",
            "Data columns (total 15 columns):\n",
            " #   Column              Non-Null Count  Dtype  \n",
            "---  ------              --------------  -----  \n",
            " 0   Unnamed: 0          2761 non-null   int64  \n",
            " 1   Student             2761 non-null   object \n",
            " 2   Employment          2761 non-null   object \n",
            " 3   UndergradMajor      2761 non-null   object \n",
            " 4   DevType             2761 non-null   object \n",
            " 5   YearsCoding         2761 non-null   object \n",
            " 6   YearsCodingProf     2761 non-null   object \n",
            " 7   ConvertedSalary     2761 non-null   float64\n",
            " 8   EducationTypes      2761 non-null   object \n",
            " 9   SelfTaughtTypes     2761 non-null   object \n",
            " 10  TimeAfterBootcamp   2761 non-null   object \n",
            " 11  LanguageWorkedWith  2761 non-null   object \n",
            " 12  Gender              2761 non-null   object \n",
            " 13  Age                 2761 non-null   object \n",
            " 14  RaceEthnicity       2761 non-null   object \n",
            "dtypes: float64(1), int64(1), object(13)\n",
            "memory usage: 323.7+ KB\n",
            "info None\n"
          ],
          "name": "stdout"
        }
      ]
    },
    {
      "cell_type": "markdown",
      "metadata": {
        "id": "58Ksi0VEIuJF",
        "colab_type": "text"
      },
      "source": [
        "##Boot Camp converted salary"
      ]
    },
    {
      "cell_type": "code",
      "metadata": {
        "id": "LSJC8S1ch2Tg",
        "colab_type": "code",
        "colab": {
          "base_uri": "https://localhost:8080/",
          "height": 185
        },
        "outputId": "cf5b5e27-d51f-40c8-8571-c607b07f054c"
      },
      "source": [
        "print(\"describe of survey population \\n\",bootc_df[\"ConvertedSalary\"].describe())"
      ],
      "execution_count": 10,
      "outputs": [
        {
          "output_type": "stream",
          "text": [
            "describe of survey population \n",
            " count      2761.000000\n",
            "mean      73453.404201\n",
            "std       57710.453235\n",
            "min           0.000000\n",
            "25%       32628.000000\n",
            "50%       65340.000000\n",
            "75%      100000.000000\n",
            "max      499344.000000\n",
            "Name: ConvertedSalary, dtype: float64\n"
          ],
          "name": "stdout"
        }
      ]
    },
    {
      "cell_type": "code",
      "metadata": {
        "id": "XFRh_xESHO-9",
        "colab_type": "code",
        "colab": {
          "base_uri": "https://localhost:8080/",
          "height": 265
        },
        "outputId": "4542b879-77ab-4955-cd47-d89e87dcaa24"
      },
      "source": [
        "bootc_df[\"ConvertedSalary\"].hist();"
      ],
      "execution_count": 11,
      "outputs": [
        {
          "output_type": "display_data",
          "data": {
            "image/png": "[encoded data removed]",
            "text/plain": [
              "<Figure size 432x288 with 1 Axes>"
            ]
          },
          "metadata": {
            "tags": [],
            "needs_background": "light"
          }
        }
      ]
    },
    {
      "cell_type": "code",
      "metadata": {
        "id": "ti9x37XSQ_yL",
        "colab_type": "code",
        "colab": {
          "base_uri": "https://localhost:8080/",
          "height": 276
        },
        "outputId": "2ea005d4-5b1e-4e58-9144-184f50d05d61"
      },
      "source": [
        "bootc_df[\"ConvertedSalary\"].plot.density();"
      ],
      "execution_count": 12,
      "outputs": [
        {
          "output_type": "display_data",
          "data": {
            "image/png": "[encoded data removed]",
            "text/plain": [
              "<Figure size 432x288 with 1 Axes>"
            ]
          },
          "metadata": {
            "tags": [],
            "needs_background": "light"
          }
        }
      ]
    },
    {
      "cell_type": "markdown",
      "metadata": {
        "id": "wOQ-9E8uYcni",
        "colab_type": "text"
      },
      "source": [
        "###**2) Select two random samples from this dataset, one with a sample size of 20 and the other with a sample size of 200. (Use a `random_state` of `42` when selecting the samples)**"
      ]
    },
    {
      "cell_type": "code",
      "metadata": {
        "id": "BAetPZaMiVf4",
        "colab_type": "code",
        "colab": {
          "base_uri": "https://localhost:8080/",
          "height": 34
        },
        "outputId": "9e7403af-5ebc-42ca-e520-ad979f20fb39"
      },
      "source": [
        "bootc_df20 = bootc_df.sample(20, random_state=42)\u000b#Random Sample of 20 the bootc_df20\n",
        "copy.deepcopy(bootc_df) #since its random\n",
        "print(bootc_df20.shape) #to check my work"
      ],
      "execution_count": 13,
      "outputs": [
        {
          "output_type": "stream",
          "text": [
            "(20, 15)\n"
          ],
          "name": "stdout"
        }
      ]
    },
    {
      "cell_type": "markdown",
      "metadata": {
        "colab_type": "text",
        "id": "L531YyWFk5v1"
      },
      "source": [
        "**2) Select random samples from this dataset, sample size of 200. (Use a `random_state` of `42` when selecting the samples)**"
      ]
    },
    {
      "cell_type": "code",
      "metadata": {
        "colab_type": "code",
        "id": "NxHv4Dk1kem8",
        "colab": {
          "base_uri": "https://localhost:8080/",
          "height": 34
        },
        "outputId": "1deb1436-6684-4950-882c-0b37a0e82285"
      },
      "source": [
        "bootc_df200 = bootc_df.sample(200, random_state=42)#Random Sample of 200 the bootc_df200\n",
        "copy.deepcopy(bootc_df) #since its random\n",
        "print(bootc_df200.shape) #to check your work"
      ],
      "execution_count": 14,
      "outputs": [
        {
          "output_type": "stream",
          "text": [
            "(200, 15)\n"
          ],
          "name": "stdout"
        }
      ]
    },
    {
      "cell_type": "code",
      "metadata": {
        "id": "sycbMUE5HVXG",
        "colab_type": "code",
        "colab": {
          "base_uri": "https://localhost:8080/",
          "height": 265
        },
        "outputId": "6fb9d822-0c62-42e9-ca88-bec5bf1e8117"
      },
      "source": [
        "bootc_df[\"ConvertedSalary\"].hist();"
      ],
      "execution_count": 15,
      "outputs": [
        {
          "output_type": "display_data",
          "data": {
            "image/png": "[encoded data removed]",
            "text/plain": [
              "<Figure size 432x288 with 1 Axes>"
            ]
          },
          "metadata": {
            "tags": [],
            "needs_background": "light"
          }
        }
      ]
    },
    {
      "cell_type": "markdown",
      "metadata": {
        "id": "y2Rz-8O-YmF9",
        "colab_type": "text"
      },
      "source": [
        "**3) Calculate and report the sample means of the `ConvertedSalary` column for both of the samples.**"
      ]
    },
    {
      "cell_type": "code",
      "metadata": {
        "id": "Neu4yA3clb9l",
        "colab_type": "code",
        "colab": {
          "base_uri": "https://localhost:8080/",
          "height": 433
        },
        "outputId": "150075ee-91b1-45d0-fd3b-1b2329d7d0d7"
      },
      "source": [
        "print(\"describe sample 20 of survey population \\n\",bootc_df200[\"ConvertedSalary\"].describe(include=\"all\"))\n",
        "bootc_df200[\"ConvertedSalary\"].hist();\n"
      ],
      "execution_count": 16,
      "outputs": [
        {
          "output_type": "stream",
          "text": [
            "describe sample 20 of survey population \n",
            " count       200.000000\n",
            "mean      68551.255000\n",
            "std       57073.209978\n",
            "min          24.000000\n",
            "25%       27825.000000\n",
            "50%       59674.500000\n",
            "75%       95211.000000\n",
            "max      466716.000000\n",
            "Name: ConvertedSalary, dtype: float64\n"
          ],
          "name": "stdout"
        },
        {
          "output_type": "display_data",
          "data": {
            "image/png": "[encoded data removed]",
            "text/plain": [
              "<Figure size 432x288 with 1 Axes>"
            ]
          },
          "metadata": {
            "tags": [],
            "needs_background": "light"
          }
        }
      ]
    },
    {
      "cell_type": "code",
      "metadata": {
        "id": "eRN1zOX4s4Zq",
        "colab_type": "code",
        "colab": {
          "base_uri": "https://localhost:8080/",
          "height": 276
        },
        "outputId": "29978eaf-254f-4bad-f2ec-2f18ce4156d0"
      },
      "source": [
        "bootc_df20[\"ConvertedSalary\"].plot.density();"
      ],
      "execution_count": 17,
      "outputs": [
        {
          "output_type": "display_data",
          "data": {
            "image/png": "[encoded data removed]",
            "text/plain": [
              "<Figure size 432x288 with 1 Axes>"
            ]
          },
          "metadata": {
            "tags": [],
            "needs_background": "light"
          }
        }
      ]
    },
    {
      "cell_type": "code",
      "metadata": {
        "id": "0A4Z5r4KszmZ",
        "colab_type": "code",
        "colab": {
          "base_uri": "https://localhost:8080/",
          "height": 276
        },
        "outputId": "9ed47d21-5aab-4d31-8cba-a9725e0d7d35"
      },
      "source": [
        "bootc_df200[\"ConvertedSalary\"].plot.density();"
      ],
      "execution_count": 18,
      "outputs": [
        {
          "output_type": "display_data",
          "data": {
            "image/png": "[encoded data removed]",
            "text/plain": [
              "<Figure size 432x288 with 1 Axes>"
            ]
          },
          "metadata": {
            "tags": [],
            "needs_background": "light"
          }
        }
      ]
    },
    {
      "cell_type": "markdown",
      "metadata": {
        "id": "AtGASqgxYp5t",
        "colab_type": "text"
      },
      "source": [
        "**4) Both of these sample means are estimates of an underlying population value. Which sample mean do you trust more? Why? Would a non-technical audience have any idea about which of these values is more trustworthy?**"
      ]
    },
    {
      "cell_type": "code",
      "metadata": {
        "id": "rjYuLDHamhxn",
        "colab_type": "code",
        "colab": {
          "base_uri": "https://localhost:8080/",
          "height": 67
        },
        "outputId": "42c21b2c-4f6b-4f08-fdea-81261a2bbe99"
      },
      "source": [
        "print(\"I trust more the mean of the random sample size of 200\")\n",
        "print(\"As the size of the sample size increase, error standard diviation get smaller\")\n",
        "print(\"It is probable, that an non-technical audience have no idea about which of these values is more trustworthy\")\n"
      ],
      "execution_count": 19,
      "outputs": [
        {
          "output_type": "stream",
          "text": [
            "I trust more the mean of the random sample size of 200\n",
            "As the size of the sample size increase, error standard diviation get smaller\n",
            "It is probable, that an non-technical audience have no idea about which of these values is more trustworthy\n"
          ],
          "name": "stdout"
        }
      ]
    },
    {
      "cell_type": "markdown",
      "metadata": {
        "id": "8oD8lp84YyvU",
        "colab_type": "text"
      },
      "source": [
        ""
      ]
    },
    {
      "cell_type": "markdown",
      "metadata": {
        "id": "-2ulIAGmYudp",
        "colab_type": "text"
      },
      "source": [
        "**5) Does just the point estimate (individual value of the sample mean) indicate to you anything about how much sampling error there could be with these estimates?**"
      ]
    },
    {
      "cell_type": "code",
      "metadata": {
        "id": "eoOkcGuSonuj",
        "colab_type": "code",
        "colab": {
          "base_uri": "https://localhost:8080/",
          "height": 35
        },
        "outputId": "c92a4f17-6968-455b-c332-90a69f5c8264"
      },
      "source": [
        "\"No\""
      ],
      "execution_count": 20,
      "outputs": [
        {
          "output_type": "execute_result",
          "data": {
            "application/vnd.google.colaboratory.intrinsic+json": {
              "type": "string"
            },
            "text/plain": [
              "'No'"
            ]
          },
          "metadata": {
            "tags": []
          },
          "execution_count": 20
        }
      ]
    },
    {
      "cell_type": "markdown",
      "metadata": {
        "id": "hD5HloatYxoh",
        "colab_type": "text"
      },
      "source": [
        ""
      ]
    },
    {
      "cell_type": "markdown",
      "metadata": {
        "id": "SpqgKQfTYvF0",
        "colab_type": "text"
      },
      "source": [
        "**6) What strategies could we use when reporting these numbers to not only report our estimates but also to give non-technical readers an idea about how far off our estimates might be due to sampling error?**\n",
        "\n"
      ]
    },
    {
      "cell_type": "code",
      "metadata": {
        "id": "8x0vEFoyot94",
        "colab_type": "code",
        "colab": {
          "base_uri": "https://localhost:8080/",
          "height": 35
        },
        "outputId": "6cc7eeb5-23ab-40f5-88de-45fcf03e8d91"
      },
      "source": [
        "\"+/- Margin of error\""
      ],
      "execution_count": 21,
      "outputs": [
        {
          "output_type": "execute_result",
          "data": {
            "application/vnd.google.colaboratory.intrinsic+json": {
              "type": "string"
            },
            "text/plain": [
              "'+/- Margin of error'"
            ]
          },
          "metadata": {
            "tags": []
          },
          "execution_count": 21
        }
      ]
    },
    {
      "cell_type": "markdown",
      "metadata": {
        "id": "9tIHBlM_SyGR",
        "colab_type": "text"
      },
      "source": [
        "## Part 2 - Reporting CIs / MOEs along with our point estimates for more context.\n",
        "\n",
        "**1) Calculate and report a 95% confidence interval around both of the sample means from part 1.**\n",
        "\n"
      ]
    },
    {
      "cell_type": "code",
      "metadata": {
        "id": "k6wk8rqww53W",
        "colab_type": "code",
        "colab": {}
      },
      "source": [
        "boottc_df20 = bootc_df20[\"ConvertedSalary\"]\n",
        "boottc_df200 = bootc_df200[\"ConvertedSalary\"]"
      ],
      "execution_count": 22,
      "outputs": []
    },
    {
      "cell_type": "code",
      "metadata": {
        "id": "hfCO0gHEUOrE",
        "colab_type": "code",
        "colab": {
          "base_uri": "https://localhost:8080/",
          "height": 34
        },
        "outputId": "52658920-8b37-4dc2-f2fd-36f4499e0e37"
      },
      "source": [
        "CI_bootc_df20 = stats.t.interval(.95, len(boottc_df20), loc= np.mean(boottc_df20),\n",
        "                  scale = stats.sem(boottc_df20))\n",
        "print(CI_bootc_df20)"
      ],
      "execution_count": 23,
      "outputs": [
        {
          "output_type": "stream",
          "text": [
            "(35872.392631018534, 75632.00736898146)\n"
          ],
          "name": "stdout"
        }
      ]
    },
    {
      "cell_type": "code",
      "metadata": {
        "id": "M1cYZa8CENOn",
        "colab_type": "code",
        "colab": {
          "base_uri": "https://localhost:8080/",
          "height": 34
        },
        "outputId": "a9646c1f-469f-4a95-a8fa-08ba0a80f494"
      },
      "source": [
        "print(f\"Give this particular sample (n={len(bootc_df20)}), we are 95% conf that the mean lies between {CI_bootc_df20[0]} and {CI_bootc_df20[1]}\")"
      ],
      "execution_count": 24,
      "outputs": [
        {
          "output_type": "stream",
          "text": [
            "Give this particular sample (n=20), we are 95% conf that the mean lies between 35872.392631018534 and 75632.00736898146\n"
          ],
          "name": "stdout"
        }
      ]
    },
    {
      "cell_type": "code",
      "metadata": {
        "id": "kvtuhUzzUlqH",
        "colab_type": "code",
        "colab": {
          "base_uri": "https://localhost:8080/",
          "height": 34
        },
        "outputId": "1c7a813b-b440-4bca-d7d8-0ef09224311c"
      },
      "source": [
        "CI_bootc_df200 = stats.t.interval(.95, len(boottc_df200), loc= np.mean(boottc_df200),\n",
        "                  scale = stats.sem(boottc_df200))\n",
        "print(CI_bootc_df200)"
      ],
      "execution_count": 25,
      "outputs": [
        {
          "output_type": "stream",
          "text": [
            "(60593.30223951439, 76509.20776048562)\n"
          ],
          "name": "stdout"
        }
      ]
    },
    {
      "cell_type": "code",
      "metadata": {
        "id": "uex1nCEQELdS",
        "colab_type": "code",
        "colab": {
          "base_uri": "https://localhost:8080/",
          "height": 34
        },
        "outputId": "b662cce8-132a-443f-a13c-9fc0cb8cbc1a"
      },
      "source": [
        "print(f\"Give this particular sample (n=200), we are 95% conf that the mean lies between {CI_bootc_df200[0]} and {CI_bootc_df200[1]}\")"
      ],
      "execution_count": 26,
      "outputs": [
        {
          "output_type": "stream",
          "text": [
            "Give this particular sample (n=200), we are 95% conf that the mean lies between 60593.30223951439 and 76509.20776048562\n"
          ],
          "name": "stdout"
        }
      ]
    },
    {
      "cell_type": "markdown",
      "metadata": {
        "id": "vdiW7DHRZwK-",
        "colab_type": "text"
      },
      "source": [
        "**2) Which confidence interval is wider and why?**"
      ]
    },
    {
      "cell_type": "markdown",
      "metadata": {
        "id": "p5KGlyvYZ1Qq",
        "colab_type": "text"
      },
      "source": [
        "The confidence interval of the first sample is much wider. Due to its lower sample size the standard error of our estimate is much larger causing the potential distribution of sample means to be much more spread out. A confidence interval catches 95% of this theoretical distriution of sample means so if our standard error is larger, our confidence interval will be wider as well."
      ]
    },
    {
      "cell_type": "code",
      "metadata": {
        "id": "v-IW8zj8clb5",
        "colab_type": "code",
        "colab": {
          "base_uri": "https://localhost:8080/",
          "height": 50
        },
        "outputId": "e2f94bbc-b985-4c49-d00f-b818f390b9d5"
      },
      "source": [
        "print(\"The Standard of error for Sample population of 20\",stats.sem(boottc_df20))\n",
        "print(\"The Standard of error for Sample population of 20\",f' {round((stats.sem(boottc_df20)/boottc_df20.mean())*100,2)}%')"
      ],
      "execution_count": 27,
      "outputs": [
        {
          "output_type": "stream",
          "text": [
            "The Standard of error for Sample population of 20 9530.275995506441\n",
            "The Standard of error for Sample population of 20  17.09%\n"
          ],
          "name": "stdout"
        }
      ]
    },
    {
      "cell_type": "markdown",
      "metadata": {
        "id": "6N33K4NvZ13H",
        "colab_type": "text"
      },
      "source": [
        "**3) Report the mean and the margin of error for both of the sample means. What does the Margin of Error Represent?**"
      ]
    },
    {
      "cell_type": "code",
      "metadata": {
        "id": "MfMIBftMU_rz",
        "colab_type": "code",
        "colab": {
          "base_uri": "https://localhost:8080/",
          "height": 50
        },
        "outputId": "9e3d7e43-a583-48ce-d2c4-e070da684f18"
      },
      "source": [
        "print(\"The Standard of error for Sample population of 200\",stats.sem(boottc_df200))\n",
        "print(\"The Standard of error for Sample population of 200\",f' {round((stats.sem(boottc_df200)/boottc_df200.mean())*100,2)}%')"
      ],
      "execution_count": 28,
      "outputs": [
        {
          "output_type": "stream",
          "text": [
            "The Standard of error for Sample population of 200 4035.6853799484325\n",
            "The Standard of error for Sample population of 200  5.89%\n"
          ],
          "name": "stdout"
        }
      ]
    },
    {
      "cell_type": "markdown",
      "metadata": {
        "id": "_7NuYtHfaQav",
        "colab_type": "text"
      },
      "source": [
        "The margin of error gives an idea of how far off our estimates might be (with 95% confidence). We're trying to supply a plausible range for our parameter of interest (the true average salary of bootcamp grads)."
      ]
    },
    {
      "cell_type": "markdown",
      "metadata": {
        "id": "zkg9EW9KTgGv",
        "colab_type": "text"
      },
      "source": [
        "## Part 3 - Communicate the Precision of Sample Estimates Graphically\n",
        "\n",
        "**1) Create a plot using `plt.errorbar` that compares both of the confidence intervals.** "
      ]
    },
    {
      "cell_type": "code",
      "metadata": {
        "id": "g5RsRnJBfrpz",
        "colab_type": "code",
        "colab": {}
      },
      "source": [
        ""
      ],
      "execution_count": 28,
      "outputs": []
    },
    {
      "cell_type": "code",
      "metadata": {
        "id": "2QOQGVfsVfFZ",
        "colab_type": "code",
        "colab": {
          "base_uri": "https://localhost:8080/",
          "height": 265
        },
        "outputId": "b5c06194-6c65-4cf0-d0bf-5f6122cf3c4b"
      },
      "source": [
        "#plt.errorbar(x,y,yerr);\n",
        "plt.errorbar(CI_bootc_df20, CI_bootc_df200, xerr = 0.5, yerr = 0.5);"
      ],
      "execution_count": 31,
      "outputs": [
        {
          "output_type": "display_data",
          "data": {
            "image/png": "[encoded data removed]",
            "text/plain": [
              "<Figure size 432x288 with 1 Axes>"
            ]
          },
          "metadata": {
            "tags": [],
            "needs_background": "light"
          }
        }
      ]
    },
    {
      "cell_type": "markdown",
      "metadata": {
        "id": "HsTtONTNawFi",
        "colab_type": "text"
      },
      "source": [
        "**2) Create a plot using `plt.bar` that compares both of the confidence intervals.**"
      ]
    },
    {
      "cell_type": "code",
      "metadata": {
        "id": "UE1fxaoKW1Xg",
        "colab_type": "code",
        "colab": {}
      },
      "source": [
        "data = {'sample(20)-L': CI_bootc_df20[0], 'sample(20)-H': CI_bootc_df20[1], 'sample(200)-H': CI_bootc_df200[1], 'sample(200)-L': CI_bootc_df200[0]}\n",
        "names = list(data.keys())\n",
        "values = list(data.values())\n",
        "\n",
        "fig, axs = plt.subplots(1, 1, figsize=(9,10), sharey=True)\n",
        "plt.bar(names, values, color=(\"#b64041\",\"#b64241\",\"#1F77B4\",\"#1F77B4\"))\n",
        "fig.suptitle('95% confidence interval around both of the sample')\n",
        "plt.show()"
      ],
      "execution_count": null,
      "outputs": []
    },
    {
      "cell_type": "markdown",
      "metadata": {
        "id": "ZGCzS-BFctob",
        "colab_type": "text"
      },
      "source": [
        "## Part 4 - Check for Understanding\n",
        "\n",
        "\n",
        "\n",
        "\n",
        "\n"
      ]
    },
    {
      "cell_type": "markdown",
      "metadata": {
        "id": "E181afPXezJ9",
        "colab_type": "text"
      },
      "source": [
        "**Calculate a Confidence Interval using the entire dataset. How precise do our estimates get?**"
      ]
    },
    {
      "cell_type": "code",
      "metadata": {
        "id": "3puy99D6esLn",
        "colab_type": "code",
        "colab": {}
      },
      "source": [
        "CI_bootc_df = stats.t.interval(.95, len(bootc_df[\"ConvertedSalary\"]), loc= np.mean(bootc_df[\"ConvertedSalary\"]),\n",
        "                  scale = stats.sem(bootc_df[\"ConvertedSalary\"]))\n",
        "print(CI_bootc_df)\n",
        "print(f\"Give this particular sample (n={len(bootc_df)}), we are 95% conf that the mean lies between {CI_bootc_df[0]} and {CI_bootc_df[1]}\")\n",
        "print(\"The Standard of error for given population\",f\"{round(stats.sem(bootc_df['ConvertedSalary'])/np.mean(bootc_df['ConvertedSalary']))}%\")"
      ],
      "execution_count": null,
      "outputs": []
    },
    {
      "cell_type": "markdown",
      "metadata": {
        "id": "wbA0inEKexdW",
        "colab_type": "text"
      },
      "source": [
        "**What does \"precision\" mean in the context of statistical estimates and how is that different from \"accuracy?\"**"
      ]
    },
    {
      "cell_type": "markdown",
      "metadata": {
        "id": "Btl5phUUd6L4",
        "colab_type": "text"
      },
      "source": [
        ""
      ]
    },
    {
      "cell_type": "markdown",
      "metadata": {
        "id": "4F-4ux7sd5pL",
        "colab_type": "text"
      },
      "source": [
        "**It is very common to misunderstand what is captured by a 95% confidence interval. What is the correct interpretation? ([Hint](https://www.statisticssolutions.com/misconceptions-about-confidence-intervals/))**"
      ]
    },
    {
      "cell_type": "markdown",
      "metadata": {
        "id": "bSU07naHd6li",
        "colab_type": "text"
      },
      "source": [
        ""
      ]
    },
    {
      "cell_type": "markdown",
      "metadata": {
        "id": "cvtnsGLJa4bW",
        "colab_type": "text"
      },
      "source": [
        "# Stretch Goals:\n",
        "\n",
        "1) Study the relationship between t-tests and confidence intervals.\n",
        " - Find a sample mean that we have worked with and construct a 95% confidence interval around it. (find the lower and upper bounds)\n",
        " - Run a 1-sample t-test with the null hypothesis value being just barely **outside** of the confidence interval. What is the p-value?\n",
        " - Run a 1-sample t-test with the null hypothesis value being just barely **inside** of the confidence interval. What is the p-value?\n",
        "\n",
        "  What does it mean when we say that the boundaries of the confidence interval are the boundaries of statistical significance in a 1-sample t-test?\n",
        "\n",
        "\n",
        "2) Go back to our [congressional voting dataset](https://archive.ics.uci.edu/ml/datasets/Congressional+Voting+Records) and build confidence intervals around the means of all of the issues for a single party. Compare all of those confidence intervals graphically on a single graph. \n",
        "\n",
        "3) Dive deeper into the [2018 Stack Overflow Survey](https://www.kaggle.com/stackoverflow/stack-overflow-2018-developer-survey) results to see what cool things you can find."
      ]
    }
  ]
}
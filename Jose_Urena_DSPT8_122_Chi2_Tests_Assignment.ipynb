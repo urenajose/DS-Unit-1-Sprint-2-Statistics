{
  "nbformat": 4,
  "nbformat_minor": 0,
  "metadata": {
    "colab": {
      "name": "Jose_Urena_DSPT8_122_Chi2_Tests_Assignment.ipynb",
      "provenance": [],
      "collapsed_sections": [],
      "include_colab_link": true
    },
    "kernelspec": {
      "name": "python3",
      "display_name": "Python 3"
    }
  },
  "cells": [
    {
      "cell_type": "markdown",
      "metadata": {
        "id": "view-in-github",
        "colab_type": "text"
      },
      "source": [
        "<a href=\"https://colab.research.google.com/github/urenajose/DS-Unit-1-Sprint-2-Statistics/blob/master/Jose_Urena_DSPT8_122_Chi2_Tests_Assignment.ipynb\" target=\"_parent\"><img src=\"https://colab.research.google.com/assets/colab-badge.svg\" alt=\"Open In Colab\"/></a>"
      ]
    },
    {
      "cell_type": "markdown",
      "metadata": {
        "id": "11OzdxWTM7UR",
        "colab_type": "text"
      },
      "source": [
        "## Assignment - Practice Chi^2 Tests\n",
        "\n",
        "Use the following dataset relating to math scores of students in two different Portugese schools:\n",
        "\n",
        "<https://archive.ics.uci.edu/ml/datasets/Student+Performance>\n",
        "\n",
        "### 1) Load the dataset specifically relating to math scores as a new dataframe.\n",
        "\n",
        "There are two datasets in the `student.zip` file, make sure you use `student-mat.csv`.\n"
      ]
    },
    {
      "cell_type": "markdown",
      "metadata": {
        "id": "4sBH0aNeoKWW",
        "colab_type": "text"
      },
      "source": [
        "# Imports"
      ]
    },
    {
      "cell_type": "code",
      "metadata": {
        "colab_type": "code",
        "id": "N1zIhL6vfX0n",
        "colab": {}
      },
      "source": [
        "import pandas as pd\n",
        "import numpy as np\n",
        "import seaborn as sns\n",
        "import matplotlib.pyplot as plt\n",
        "from scipy.stats import ttest_ind\n",
        "from scipy import stats\n",
        "import copy"
      ],
      "execution_count": 31,
      "outputs": []
    },
    {
      "cell_type": "code",
      "metadata": {
        "id": "PMimeRODmsl3",
        "colab_type": "code",
        "colab": {}
      },
      "source": [
        "pd.set_option('display.expand_frame_repr', False)"
      ],
      "execution_count": 32,
      "outputs": []
    },
    {
      "cell_type": "markdown",
      "metadata": {
        "id": "atSzjSa7oSDa",
        "colab_type": "text"
      },
      "source": [
        "# Pandas read"
      ]
    },
    {
      "cell_type": "code",
      "metadata": {
        "id": "UQwvrhn7m3Mn",
        "colab_type": "code",
        "colab": {}
      },
      "source": [
        "# YOUR WORK HERE\n",
        "student_df = pd.read_csv(\"/student-mat.csv\", sep=\";\")"
      ],
      "execution_count": 25,
      "outputs": []
    },
    {
      "cell_type": "markdown",
      "metadata": {
        "id": "uW0pVV3ioXh2",
        "colab_type": "text"
      },
      "source": [
        "# Data review"
      ]
    },
    {
      "cell_type": "code",
      "metadata": {
        "id": "1_EqrA4SgGuv",
        "colab_type": "code",
        "colab": {
          "base_uri": "https://localhost:8080/",
          "height": 255
        },
        "outputId": "d1ad9220-6d43-400b-9f70-e39bb499e4a4"
      },
      "source": [
        "print(student_df.shape)\n",
        "print(student_df.head())\n",
        "print(student_df.tail())"
      ],
      "execution_count": 38,
      "outputs": [
        {
          "output_type": "stream",
          "text": [
            "(395, 33)\n",
            "  school sex  age address famsize Pstatus  Medu  Fedu     Mjob      Fjob  reason guardian  traveltime  studytime  failures schoolsup famsup paid activities nursery higher internet romantic  famrel  freetime  goout  Dalc  Walc  health  absences  G1  G2  G3\n",
            "0     GP   F   18       U     GT3       A     4     4  at_home   teacher  course   mother           2          2         0       yes     no   no         no     yes    yes       no       no       4         3      4     1     1       3         6   5   6   6\n",
            "1     GP   F   17       U     GT3       T     1     1  at_home     other  course   father           1          2         0        no    yes   no         no      no    yes      yes       no       5         3      3     1     1       3         4   5   5   6\n",
            "2     GP   F   15       U     LE3       T     1     1  at_home     other   other   mother           1          2         3       yes     no  yes         no     yes    yes      yes       no       4         3      2     2     3       3        10   7   8  10\n",
            "3     GP   F   15       U     GT3       T     4     2   health  services    home   mother           1          3         0        no    yes  yes        yes     yes    yes      yes      yes       3         2      2     1     1       5         2  15  14  15\n",
            "4     GP   F   16       U     GT3       T     3     3    other     other    home   father           1          2         0        no    yes  yes         no     yes    yes       no       no       4         3      2     1     2       5         4   6  10  10\n",
            "    school sex  age address famsize Pstatus  Medu  Fedu      Mjob      Fjob  reason guardian  traveltime  studytime  failures schoolsup famsup paid activities nursery higher internet romantic  famrel  freetime  goout  Dalc  Walc  health  absences  G1  G2  G3\n",
            "390     MS   M   20       U     LE3       A     2     2  services  services  course    other           1          2         2        no    yes  yes         no     yes    yes       no       no       5         5      4     4     5       4        11   9   9   9\n",
            "391     MS   M   17       U     LE3       T     3     1  services  services  course   mother           2          1         0        no     no   no         no      no    yes      yes       no       2         4      5     3     4       2         3  14  16  16\n",
            "392     MS   M   21       R     GT3       T     1     1     other     other  course    other           1          1         3        no     no   no         no      no    yes       no       no       5         5      3     3     3       3         3  10   8   7\n",
            "393     MS   M   18       R     LE3       T     3     2  services     other  course   mother           3          1         0        no     no   no         no      no    yes      yes       no       4         4      1     3     4       5         0  11  12  10\n",
            "394     MS   M   19       U     LE3       T     1     1     other   at_home  course   father           1          1         0        no     no   no         no     yes    yes      yes       no       3         2      3     3     3       5         5   8   9   9\n"
          ],
          "name": "stdout"
        }
      ]
    },
    {
      "cell_type": "code",
      "metadata": {
        "id": "xtibYLbBnyl2",
        "colab_type": "code",
        "colab": {
          "base_uri": "https://localhost:8080/",
          "height": 1000
        },
        "outputId": "e8c55d87-7f94-473e-9560-f66c9f303317"
      },
      "source": [
        "print(\"describe \\n\",student_df.describe(include=\"all\"))\n",
        "print(\"Sum of null\",student_df.isnull().sum())\n",
        "print(\"info\",student_df.info())"
      ],
      "execution_count": 51,
      "outputs": [
        {
          "output_type": "stream",
          "text": [
            "describe \n",
            "        school  sex         age address famsize Pstatus        Medu        Fedu   Mjob   Fjob  reason guardian  traveltime   studytime    failures schoolsup famsup paid activities nursery higher internet romantic      famrel    freetime       goout        Dalc        Walc      health    absences          G1          G2          G3\n",
            "count     395  395  395.000000     395     395     395  395.000000  395.000000    395    395     395      395  395.000000  395.000000  395.000000       395    395  395        395     395    395      395      395  395.000000  395.000000  395.000000  395.000000  395.000000  395.000000  395.000000  395.000000  395.000000  395.000000\n",
            "unique      2    2         NaN       2       2       2         NaN         NaN      5      5       4        3         NaN         NaN         NaN         2      2    2          2       2      2        2        2         NaN         NaN         NaN         NaN         NaN         NaN         NaN         NaN         NaN         NaN\n",
            "top        GP    F         NaN       U     GT3       T         NaN         NaN  other  other  course   mother         NaN         NaN         NaN        no    yes   no        yes     yes    yes      yes       no         NaN         NaN         NaN         NaN         NaN         NaN         NaN         NaN         NaN         NaN\n",
            "freq      349  208         NaN     307     281     354         NaN         NaN    141    217     145      273         NaN         NaN         NaN       344    242  214        201     314    375      329      263         NaN         NaN         NaN         NaN         NaN         NaN         NaN         NaN         NaN         NaN\n",
            "mean      NaN  NaN   16.696203     NaN     NaN     NaN    2.749367    2.521519    NaN    NaN     NaN      NaN    1.448101    2.035443    0.334177       NaN    NaN  NaN        NaN     NaN    NaN      NaN      NaN    3.944304    3.235443    3.108861    1.481013    2.291139    3.554430    5.708861   10.908861   10.713924   10.415190\n",
            "std       NaN  NaN    1.276043     NaN     NaN     NaN    1.094735    1.088201    NaN    NaN     NaN      NaN    0.697505    0.839240    0.743651       NaN    NaN  NaN        NaN     NaN    NaN      NaN      NaN    0.896659    0.998862    1.113278    0.890741    1.287897    1.390303    8.003096    3.319195    3.761505    4.581443\n",
            "min       NaN  NaN   15.000000     NaN     NaN     NaN    0.000000    0.000000    NaN    NaN     NaN      NaN    1.000000    1.000000    0.000000       NaN    NaN  NaN        NaN     NaN    NaN      NaN      NaN    1.000000    1.000000    1.000000    1.000000    1.000000    1.000000    0.000000    3.000000    0.000000    0.000000\n",
            "25%       NaN  NaN   16.000000     NaN     NaN     NaN    2.000000    2.000000    NaN    NaN     NaN      NaN    1.000000    1.000000    0.000000       NaN    NaN  NaN        NaN     NaN    NaN      NaN      NaN    4.000000    3.000000    2.000000    1.000000    1.000000    3.000000    0.000000    8.000000    9.000000    8.000000\n",
            "50%       NaN  NaN   17.000000     NaN     NaN     NaN    3.000000    2.000000    NaN    NaN     NaN      NaN    1.000000    2.000000    0.000000       NaN    NaN  NaN        NaN     NaN    NaN      NaN      NaN    4.000000    3.000000    3.000000    1.000000    2.000000    4.000000    4.000000   11.000000   11.000000   11.000000\n",
            "75%       NaN  NaN   18.000000     NaN     NaN     NaN    4.000000    3.000000    NaN    NaN     NaN      NaN    2.000000    2.000000    0.000000       NaN    NaN  NaN        NaN     NaN    NaN      NaN      NaN    5.000000    4.000000    4.000000    2.000000    3.000000    5.000000    8.000000   13.000000   13.000000   14.000000\n",
            "max       NaN  NaN   22.000000     NaN     NaN     NaN    4.000000    4.000000    NaN    NaN     NaN      NaN    4.000000    4.000000    3.000000       NaN    NaN  NaN        NaN     NaN    NaN      NaN      NaN    5.000000    5.000000    5.000000    5.000000    5.000000    5.000000   75.000000   19.000000   19.000000   20.000000\n",
            "Sum of null school        0\n",
            "sex           0\n",
            "age           0\n",
            "address       0\n",
            "famsize       0\n",
            "Pstatus       0\n",
            "Medu          0\n",
            "Fedu          0\n",
            "Mjob          0\n",
            "Fjob          0\n",
            "reason        0\n",
            "guardian      0\n",
            "traveltime    0\n",
            "studytime     0\n",
            "failures      0\n",
            "schoolsup     0\n",
            "famsup        0\n",
            "paid          0\n",
            "activities    0\n",
            "nursery       0\n",
            "higher        0\n",
            "internet      0\n",
            "romantic      0\n",
            "famrel        0\n",
            "freetime      0\n",
            "goout         0\n",
            "Dalc          0\n",
            "Walc          0\n",
            "health        0\n",
            "absences      0\n",
            "G1            0\n",
            "G2            0\n",
            "G3            0\n",
            "dtype: int64\n",
            "<class 'pandas.core.frame.DataFrame'>\n",
            "RangeIndex: 395 entries, 0 to 394\n",
            "Data columns (total 33 columns):\n",
            " #   Column      Non-Null Count  Dtype \n",
            "---  ------      --------------  ----- \n",
            " 0   school      395 non-null    object\n",
            " 1   sex         395 non-null    object\n",
            " 2   age         395 non-null    int64 \n",
            " 3   address     395 non-null    object\n",
            " 4   famsize     395 non-null    object\n",
            " 5   Pstatus     395 non-null    object\n",
            " 6   Medu        395 non-null    int64 \n",
            " 7   Fedu        395 non-null    int64 \n",
            " 8   Mjob        395 non-null    object\n",
            " 9   Fjob        395 non-null    object\n",
            " 10  reason      395 non-null    object\n",
            " 11  guardian    395 non-null    object\n",
            " 12  traveltime  395 non-null    int64 \n",
            " 13  studytime   395 non-null    int64 \n",
            " 14  failures    395 non-null    int64 \n",
            " 15  schoolsup   395 non-null    object\n",
            " 16  famsup      395 non-null    object\n",
            " 17  paid        395 non-null    object\n",
            " 18  activities  395 non-null    object\n",
            " 19  nursery     395 non-null    object\n",
            " 20  higher      395 non-null    object\n",
            " 21  internet    395 non-null    object\n",
            " 22  romantic    395 non-null    object\n",
            " 23  famrel      395 non-null    int64 \n",
            " 24  freetime    395 non-null    int64 \n",
            " 25  goout       395 non-null    int64 \n",
            " 26  Dalc        395 non-null    int64 \n",
            " 27  Walc        395 non-null    int64 \n",
            " 28  health      395 non-null    int64 \n",
            " 29  absences    395 non-null    int64 \n",
            " 30  G1          395 non-null    int64 \n",
            " 31  G2          395 non-null    int64 \n",
            " 32  G3          395 non-null    int64 \n",
            "dtypes: int64(16), object(17)\n",
            "memory usage: 102.0+ KB\n",
            "info None\n"
          ],
          "name": "stdout"
        }
      ]
    },
    {
      "cell_type": "markdown",
      "metadata": {
        "id": "RXPZZuAi3ccI",
        "colab_type": "text"
      },
      "source": [
        "### 2) Use Chi^2 tests and `stats.chi2_contingency()` to identify:\n",
        " - Two pairs of variables that are dependent (are associated with one another).\n",
        " - Two pairs of variables that are independent (have no significant relationship).\n",
        "\n",
        "Does it make intuitive sense why the variables in these pairs might or might not show a relationship to one another? \n"
      ]
    },
    {
      "cell_type": "markdown",
      "metadata": {
        "id": "WxD8rFn8uaYA",
        "colab_type": "text"
      },
      "source": [
        "#Crosstab"
      ]
    },
    {
      "cell_type": "code",
      "metadata": {
        "id": "CxS-ehrrujDq",
        "colab_type": "code",
        "colab": {}
      },
      "source": [
        ""
      ],
      "execution_count": null,
      "outputs": []
    },
    {
      "cell_type": "code",
      "metadata": {
        "id": "nQJ_33MJuY76",
        "colab_type": "code",
        "colab": {}
      },
      "source": [
        ""
      ],
      "execution_count": null,
      "outputs": []
    },
    {
      "cell_type": "code",
      "metadata": {
        "id": "Ckcr4A4FM7cs",
        "colab_type": "code",
        "colab": {}
      },
      "source": [
        "stats.chi2_contingency()"
      ],
      "execution_count": null,
      "outputs": []
    },
    {
      "cell_type": "markdown",
      "metadata": {
        "id": "Tf7XPpBP6YqX",
        "colab_type": "text"
      },
      "source": [
        "### 3) Use NumPy to perform your own chi^2 test \"from scratch\" \n",
        "\n",
        "Pick any of the chi^2 tests that you ran in part 2 and try them on your own. You should get the same results that Scipy got for all four values returned from `chi2_contingency()`"
      ]
    },
    {
      "cell_type": "code",
      "metadata": {
        "id": "Et5DtusY6maX",
        "colab_type": "code",
        "colab": {}
      },
      "source": [
        "# YOUR WORK HERE"
      ],
      "execution_count": null,
      "outputs": []
    },
    {
      "cell_type": "markdown",
      "metadata": {
        "id": "a2BrKHq8m8AS",
        "colab_type": "text"
      },
      "source": [
        "## Stretch goals:\n",
        "\n",
        "### 1. Refactor your code so it is elegant, readable, and holds reusable code in functions."
      ]
    },
    {
      "cell_type": "code",
      "metadata": {
        "id": "AntnuAkFm-JQ",
        "colab_type": "code",
        "colab": {}
      },
      "source": [
        "# YOUR WORK HERE"
      ],
      "execution_count": null,
      "outputs": []
    },
    {
      "cell_type": "markdown",
      "metadata": {
        "id": "4ohsJhQUmEuS",
        "colab_type": "text"
      },
      "source": [
        "\n",
        "\n",
        "### 2. Check For Understanding - Study and write your own explanations/definitions for these topics:\n",
        "\n",
        "- What is a sample \"estimate\" in statistics?\n",
        "\n",
        "- What are hypothesis test? How are they useful?\n",
        "\n",
        "- What is a \"null hypothesis?\"\n",
        "\n",
        "- What is a p-value and what does it represent?\n",
        "\n",
        "- What does it mean for something to be \"statistically significant?\"\n",
        "\n",
        "- What is a test statistic and how does it relate to a p-value?\n",
        "\n",
        "- What are \"degrees of freedom\" and how are they calculated in a 1-sample, 2-sample, and chi^2 test for independence?"
      ]
    },
    {
      "cell_type": "markdown",
      "metadata": {
        "id": "nyJ3ySr7R2k9",
        "colab_type": "text"
      },
      "source": [
        "## Resources\n",
        "\n",
        "- [Interactive visualize the Chi-Squared test](https://homepage.divms.uiowa.edu/~mbognar/applets/chisq.html)\n",
        "- [Calculation of Chi-Squared test statistic](https://en.wikipedia.org/wiki/Pearson%27s_chi-squared_test)\n",
        "- [Visualization of a confidence interval generated by R code](https://commons.wikimedia.org/wiki/File:Confidence-interval.svg)\n",
        "- [Expected value of a squared standard normal](https://math.stackexchange.com/questions/264061/expected-value-calculation-for-squared-normal-distribution) (it's 1 - which is why the expected value of a Chi-Squared with $n$ degrees of freedom is $n$, as it's the sum of $n$ squared standard normals)"
      ]
    }
  ]
}
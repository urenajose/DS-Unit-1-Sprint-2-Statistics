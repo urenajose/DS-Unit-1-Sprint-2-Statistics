{
  "nbformat": 4,
  "nbformat_minor": 0,
  "metadata": {
    "colab": {
      "name": "Jose_Urena_DSPT8_122_Chi2_Tests_Assignment.ipynb",
      "provenance": [],
      "collapsed_sections": [],
      "include_colab_link": true
    },
    "kernelspec": {
      "name": "python3",
      "display_name": "Python 3"
    }
  },
  "cells": [
    {
      "cell_type": "markdown",
      "metadata": {
        "id": "view-in-github",
        "colab_type": "text"
      },
      "source": [
        "<a href=\"https://colab.research.google.com/github/urenajose/DS-Unit-1-Sprint-2-Statistics/blob/master/Jose_Urena_DSPT8_122_Chi2_Tests_Assignment.ipynb\" target=\"_parent\"><img src=\"https://colab.research.google.com/assets/colab-badge.svg\" alt=\"Open In Colab\"/></a>"
      ]
    },
    {
      "cell_type": "markdown",
      "metadata": {
        "id": "11OzdxWTM7UR",
        "colab_type": "text"
      },
      "source": [
        "# Assignment - Practice Chi^2 Tests\n",
        "\n",
        "Use the following dataset relating to math scores of students in two different Portugese schools:\n",
        "\n",
        "<https://archive.ics.uci.edu/ml/datasets/Student+Performance>\n",
        "\n",
        "### 1) Load the dataset specifically relating to math scores as a new dataframe.\n",
        "\n",
        "There are two datasets in the `student.zip` file, make sure you use `student-mat.csv`.\n"
      ]
    },
    {
      "cell_type": "markdown",
      "metadata": {
        "id": "4sBH0aNeoKWW",
        "colab_type": "text"
      },
      "source": [
        "## Imports"
      ]
    },
    {
      "cell_type": "code",
      "metadata": {
        "colab_type": "code",
        "id": "N1zIhL6vfX0n",
        "colab": {
          "base_uri": "https://localhost:8080/",
          "height": 0
        },
        "outputId": "c8193faa-ddce-47d1-a247-a370ed62b19a"
      },
      "source": [
        "import pandas as pd\n",
        "import numpy as np\n",
        "import seaborn as sns\n",
        "import matplotlib.pyplot as plt\n",
        "from scipy.stats import ttest_ind\n",
        "from scipy import stats\n",
        "import copy"
      ],
      "execution_count": 1,
      "outputs": [
        {
          "output_type": "stream",
          "text": [
            "/usr/local/lib/python3.6/dist-packages/statsmodels/tools/_testing.py:19: FutureWarning: pandas.util.testing is deprecated. Use the functions in the public API at pandas.testing instead.\n",
            "  import pandas.util.testing as tm\n"
          ],
          "name": "stderr"
        }
      ]
    },
    {
      "cell_type": "code",
      "metadata": {
        "id": "PMimeRODmsl3",
        "colab_type": "code",
        "colab": {}
      },
      "source": [
        "pd.set_option('display.expand_frame_repr', False)"
      ],
      "execution_count": 2,
      "outputs": []
    },
    {
      "cell_type": "markdown",
      "metadata": {
        "id": "atSzjSa7oSDa",
        "colab_type": "text"
      },
      "source": [
        "## Pandas read"
      ]
    },
    {
      "cell_type": "code",
      "metadata": {
        "id": "UQwvrhn7m3Mn",
        "colab_type": "code",
        "colab": {}
      },
      "source": [
        "# YOUR WORK HERE\n",
        "student_df = pd.read_csv(\"/content/student-mat.csv\", sep=\";\")"
      ],
      "execution_count": 3,
      "outputs": []
    },
    {
      "cell_type": "markdown",
      "metadata": {
        "id": "uW0pVV3ioXh2",
        "colab_type": "text"
      },
      "source": [
        "## Data review and Wrangling"
      ]
    },
    {
      "cell_type": "code",
      "metadata": {
        "id": "1_EqrA4SgGuv",
        "colab_type": "code",
        "colab": {
          "base_uri": "https://localhost:8080/",
          "height": 0
        },
        "outputId": "cbea867b-6e32-4cfa-bce0-3f4720ee4e45"
      },
      "source": [
        "print(student_df.shape)\n",
        "print(student_df.head())\n",
        "print(student_df.tail())"
      ],
      "execution_count": 4,
      "outputs": [
        {
          "output_type": "stream",
          "text": [
            "(395, 33)\n",
            "  school sex  age address famsize Pstatus  Medu  Fedu     Mjob      Fjob  reason guardian  traveltime  studytime  failures schoolsup famsup paid activities nursery higher internet romantic  famrel  freetime  goout  Dalc  Walc  health  absences  G1  G2  G3\n",
            "0     GP   F   18       U     GT3       A     4     4  at_home   teacher  course   mother           2          2         0       yes     no   no         no     yes    yes       no       no       4         3      4     1     1       3         6   5   6   6\n",
            "1     GP   F   17       U     GT3       T     1     1  at_home     other  course   father           1          2         0        no    yes   no         no      no    yes      yes       no       5         3      3     1     1       3         4   5   5   6\n",
            "2     GP   F   15       U     LE3       T     1     1  at_home     other   other   mother           1          2         3       yes     no  yes         no     yes    yes      yes       no       4         3      2     2     3       3        10   7   8  10\n",
            "3     GP   F   15       U     GT3       T     4     2   health  services    home   mother           1          3         0        no    yes  yes        yes     yes    yes      yes      yes       3         2      2     1     1       5         2  15  14  15\n",
            "4     GP   F   16       U     GT3       T     3     3    other     other    home   father           1          2         0        no    yes  yes         no     yes    yes       no       no       4         3      2     1     2       5         4   6  10  10\n",
            "    school sex  age address famsize Pstatus  Medu  Fedu      Mjob      Fjob  reason guardian  traveltime  studytime  failures schoolsup famsup paid activities nursery higher internet romantic  famrel  freetime  goout  Dalc  Walc  health  absences  G1  G2  G3\n",
            "390     MS   M   20       U     LE3       A     2     2  services  services  course    other           1          2         2        no    yes  yes         no     yes    yes       no       no       5         5      4     4     5       4        11   9   9   9\n",
            "391     MS   M   17       U     LE3       T     3     1  services  services  course   mother           2          1         0        no     no   no         no      no    yes      yes       no       2         4      5     3     4       2         3  14  16  16\n",
            "392     MS   M   21       R     GT3       T     1     1     other     other  course    other           1          1         3        no     no   no         no      no    yes       no       no       5         5      3     3     3       3         3  10   8   7\n",
            "393     MS   M   18       R     LE3       T     3     2  services     other  course   mother           3          1         0        no     no   no         no      no    yes      yes       no       4         4      1     3     4       5         0  11  12  10\n",
            "394     MS   M   19       U     LE3       T     1     1     other   at_home  course   father           1          1         0        no     no   no         no     yes    yes      yes       no       3         2      3     3     3       5         5   8   9   9\n"
          ],
          "name": "stdout"
        }
      ]
    },
    {
      "cell_type": "code",
      "metadata": {
        "id": "xtibYLbBnyl2",
        "colab_type": "code",
        "colab": {
          "base_uri": "https://localhost:8080/",
          "height": 0
        },
        "outputId": "dc461b5d-e7e3-4be6-f80d-0ec77274f01d"
      },
      "source": [
        "print(\"describe \\n\",student_df.describe(include=\"all\"))\n",
        "print(\"Sum of null\",student_df.isnull().sum())\n",
        "print(\"info\",student_df.info())"
      ],
      "execution_count": 5,
      "outputs": [
        {
          "output_type": "stream",
          "text": [
            "describe \n",
            "        school  sex         age address famsize Pstatus        Medu        Fedu   Mjob   Fjob  reason guardian  traveltime   studytime    failures schoolsup famsup paid activities nursery higher internet romantic      famrel    freetime       goout        Dalc        Walc      health    absences          G1          G2          G3\n",
            "count     395  395  395.000000     395     395     395  395.000000  395.000000    395    395     395      395  395.000000  395.000000  395.000000       395    395  395        395     395    395      395      395  395.000000  395.000000  395.000000  395.000000  395.000000  395.000000  395.000000  395.000000  395.000000  395.000000\n",
            "unique      2    2         NaN       2       2       2         NaN         NaN      5      5       4        3         NaN         NaN         NaN         2      2    2          2       2      2        2        2         NaN         NaN         NaN         NaN         NaN         NaN         NaN         NaN         NaN         NaN\n",
            "top        GP    F         NaN       U     GT3       T         NaN         NaN  other  other  course   mother         NaN         NaN         NaN        no    yes   no        yes     yes    yes      yes       no         NaN         NaN         NaN         NaN         NaN         NaN         NaN         NaN         NaN         NaN\n",
            "freq      349  208         NaN     307     281     354         NaN         NaN    141    217     145      273         NaN         NaN         NaN       344    242  214        201     314    375      329      263         NaN         NaN         NaN         NaN         NaN         NaN         NaN         NaN         NaN         NaN\n",
            "mean      NaN  NaN   16.696203     NaN     NaN     NaN    2.749367    2.521519    NaN    NaN     NaN      NaN    1.448101    2.035443    0.334177       NaN    NaN  NaN        NaN     NaN    NaN      NaN      NaN    3.944304    3.235443    3.108861    1.481013    2.291139    3.554430    5.708861   10.908861   10.713924   10.415190\n",
            "std       NaN  NaN    1.276043     NaN     NaN     NaN    1.094735    1.088201    NaN    NaN     NaN      NaN    0.697505    0.839240    0.743651       NaN    NaN  NaN        NaN     NaN    NaN      NaN      NaN    0.896659    0.998862    1.113278    0.890741    1.287897    1.390303    8.003096    3.319195    3.761505    4.581443\n",
            "min       NaN  NaN   15.000000     NaN     NaN     NaN    0.000000    0.000000    NaN    NaN     NaN      NaN    1.000000    1.000000    0.000000       NaN    NaN  NaN        NaN     NaN    NaN      NaN      NaN    1.000000    1.000000    1.000000    1.000000    1.000000    1.000000    0.000000    3.000000    0.000000    0.000000\n",
            "25%       NaN  NaN   16.000000     NaN     NaN     NaN    2.000000    2.000000    NaN    NaN     NaN      NaN    1.000000    1.000000    0.000000       NaN    NaN  NaN        NaN     NaN    NaN      NaN      NaN    4.000000    3.000000    2.000000    1.000000    1.000000    3.000000    0.000000    8.000000    9.000000    8.000000\n",
            "50%       NaN  NaN   17.000000     NaN     NaN     NaN    3.000000    2.000000    NaN    NaN     NaN      NaN    1.000000    2.000000    0.000000       NaN    NaN  NaN        NaN     NaN    NaN      NaN      NaN    4.000000    3.000000    3.000000    1.000000    2.000000    4.000000    4.000000   11.000000   11.000000   11.000000\n",
            "75%       NaN  NaN   18.000000     NaN     NaN     NaN    4.000000    3.000000    NaN    NaN     NaN      NaN    2.000000    2.000000    0.000000       NaN    NaN  NaN        NaN     NaN    NaN      NaN      NaN    5.000000    4.000000    4.000000    2.000000    3.000000    5.000000    8.000000   13.000000   13.000000   14.000000\n",
            "max       NaN  NaN   22.000000     NaN     NaN     NaN    4.000000    4.000000    NaN    NaN     NaN      NaN    4.000000    4.000000    3.000000       NaN    NaN  NaN        NaN     NaN    NaN      NaN      NaN    5.000000    5.000000    5.000000    5.000000    5.000000    5.000000   75.000000   19.000000   19.000000   20.000000\n",
            "Sum of null school        0\n",
            "sex           0\n",
            "age           0\n",
            "address       0\n",
            "famsize       0\n",
            "Pstatus       0\n",
            "Medu          0\n",
            "Fedu          0\n",
            "Mjob          0\n",
            "Fjob          0\n",
            "reason        0\n",
            "guardian      0\n",
            "traveltime    0\n",
            "studytime     0\n",
            "failures      0\n",
            "schoolsup     0\n",
            "famsup        0\n",
            "paid          0\n",
            "activities    0\n",
            "nursery       0\n",
            "higher        0\n",
            "internet      0\n",
            "romantic      0\n",
            "famrel        0\n",
            "freetime      0\n",
            "goout         0\n",
            "Dalc          0\n",
            "Walc          0\n",
            "health        0\n",
            "absences      0\n",
            "G1            0\n",
            "G2            0\n",
            "G3            0\n",
            "dtype: int64\n",
            "<class 'pandas.core.frame.DataFrame'>\n",
            "RangeIndex: 395 entries, 0 to 394\n",
            "Data columns (total 33 columns):\n",
            " #   Column      Non-Null Count  Dtype \n",
            "---  ------      --------------  ----- \n",
            " 0   school      395 non-null    object\n",
            " 1   sex         395 non-null    object\n",
            " 2   age         395 non-null    int64 \n",
            " 3   address     395 non-null    object\n",
            " 4   famsize     395 non-null    object\n",
            " 5   Pstatus     395 non-null    object\n",
            " 6   Medu        395 non-null    int64 \n",
            " 7   Fedu        395 non-null    int64 \n",
            " 8   Mjob        395 non-null    object\n",
            " 9   Fjob        395 non-null    object\n",
            " 10  reason      395 non-null    object\n",
            " 11  guardian    395 non-null    object\n",
            " 12  traveltime  395 non-null    int64 \n",
            " 13  studytime   395 non-null    int64 \n",
            " 14  failures    395 non-null    int64 \n",
            " 15  schoolsup   395 non-null    object\n",
            " 16  famsup      395 non-null    object\n",
            " 17  paid        395 non-null    object\n",
            " 18  activities  395 non-null    object\n",
            " 19  nursery     395 non-null    object\n",
            " 20  higher      395 non-null    object\n",
            " 21  internet    395 non-null    object\n",
            " 22  romantic    395 non-null    object\n",
            " 23  famrel      395 non-null    int64 \n",
            " 24  freetime    395 non-null    int64 \n",
            " 25  goout       395 non-null    int64 \n",
            " 26  Dalc        395 non-null    int64 \n",
            " 27  Walc        395 non-null    int64 \n",
            " 28  health      395 non-null    int64 \n",
            " 29  absences    395 non-null    int64 \n",
            " 30  G1          395 non-null    int64 \n",
            " 31  G2          395 non-null    int64 \n",
            " 32  G3          395 non-null    int64 \n",
            "dtypes: int64(16), object(17)\n",
            "memory usage: 102.0+ KB\n",
            "info None\n"
          ],
          "name": "stdout"
        }
      ]
    },
    {
      "cell_type": "markdown",
      "metadata": {
        "id": "RXPZZuAi3ccI",
        "colab_type": "text"
      },
      "source": [
        "### 2) Use Chi^2 tests and `stats.chi2_contingency()` to identify:\n",
        " - Two pairs of variables that are dependent (are associated with one another).\n",
        " - Two pairs of variables that are independent (have no significant relationship).\n",
        "\n",
        "Does it make intuitive sense why the variables in these pairs might or might not show a relationship to one another? \n"
      ]
    },
    {
      "cell_type": "markdown",
      "metadata": {
        "id": "406ON-y20btU",
        "colab_type": "text"
      },
      "source": [
        "![image.png](https://files.slack.com/files-pri/TSZCHB482-F017WLV2UG4/image.png)"
      ]
    },
    {
      "cell_type": "markdown",
      "metadata": {
        "id": "WxD8rFn8uaYA",
        "colab_type": "text"
      },
      "source": [
        "##Column describe"
      ]
    },
    {
      "cell_type": "code",
      "metadata": {
        "id": "CxS-ehrrujDq",
        "colab_type": "code",
        "colab": {
          "base_uri": "https://localhost:8080/",
          "height": 170
        },
        "outputId": "7a50f812-e8b5-4acb-90c1-6a4127d2b310"
      },
      "source": [
        "student_df[\"age\"].describe()\n"
      ],
      "execution_count": 6,
      "outputs": [
        {
          "output_type": "execute_result",
          "data": {
            "text/plain": [
              "count    395.000000\n",
              "mean      16.696203\n",
              "std        1.276043\n",
              "min       15.000000\n",
              "25%       16.000000\n",
              "50%       17.000000\n",
              "75%       18.000000\n",
              "max       22.000000\n",
              "Name: age, dtype: float64"
            ]
          },
          "metadata": {
            "tags": []
          },
          "execution_count": 6
        }
      ]
    },
    {
      "cell_type": "code",
      "metadata": {
        "id": "nQJ_33MJuY76",
        "colab_type": "code",
        "colab": {
          "base_uri": "https://localhost:8080/",
          "height": 170
        },
        "outputId": "c42d66b8-ede0-4ae1-9bcf-79b48f590678"
      },
      "source": [
        "student_df[\"absences\"].describe()"
      ],
      "execution_count": 7,
      "outputs": [
        {
          "output_type": "execute_result",
          "data": {
            "text/plain": [
              "count    395.000000\n",
              "mean       5.708861\n",
              "std        8.003096\n",
              "min        0.000000\n",
              "25%        0.000000\n",
              "50%        4.000000\n",
              "75%        8.000000\n",
              "max       75.000000\n",
              "Name: absences, dtype: float64"
            ]
          },
          "metadata": {
            "tags": []
          },
          "execution_count": 7
        }
      ]
    },
    {
      "cell_type": "code",
      "metadata": {
        "id": "TjF2dIkU1WZo",
        "colab_type": "code",
        "colab": {
          "base_uri": "https://localhost:8080/",
          "height": 102
        },
        "outputId": "f1936091-c434-4a81-83e6-92398c78c7ca"
      },
      "source": [
        "student_df[\"sex\"].describe()"
      ],
      "execution_count": 85,
      "outputs": [
        {
          "output_type": "execute_result",
          "data": {
            "text/plain": [
              "count     395\n",
              "unique      2\n",
              "top         F\n",
              "freq      208\n",
              "Name: sex, dtype: object"
            ]
          },
          "metadata": {
            "tags": []
          },
          "execution_count": 85
        }
      ]
    },
    {
      "cell_type": "code",
      "metadata": {
        "colab_type": "code",
        "id": "4u65rm4l1Wvs",
        "colab": {
          "base_uri": "https://localhost:8080/",
          "height": 102
        },
        "outputId": "86bedbcb-2164-4047-cb71-d3d70ec25689"
      },
      "source": [
        "student_df[\"school\"].describe()"
      ],
      "execution_count": 30,
      "outputs": [
        {
          "output_type": "execute_result",
          "data": {
            "text/plain": [
              "count     395\n",
              "unique      2\n",
              "top        GP\n",
              "freq      349\n",
              "Name: school, dtype: object"
            ]
          },
          "metadata": {
            "tags": []
          },
          "execution_count": 30
        }
      ]
    },
    {
      "cell_type": "code",
      "metadata": {
        "colab_type": "code",
        "id": "jlM5zJ8O1XOe",
        "colab": {
          "base_uri": "https://localhost:8080/",
          "height": 170
        },
        "outputId": "25e74174-4470-4756-c575-04e27cffb228"
      },
      "source": [
        "student_df[\"traveltime\"].describe()"
      ],
      "execution_count": 29,
      "outputs": [
        {
          "output_type": "execute_result",
          "data": {
            "text/plain": [
              "count    395.000000\n",
              "mean       1.448101\n",
              "std        0.697505\n",
              "min        1.000000\n",
              "25%        1.000000\n",
              "50%        1.000000\n",
              "75%        2.000000\n",
              "max        4.000000\n",
              "Name: traveltime, dtype: float64"
            ]
          },
          "metadata": {
            "tags": []
          },
          "execution_count": 29
        }
      ]
    },
    {
      "cell_type": "markdown",
      "metadata": {
        "id": "wpbzcMcGpoEI",
        "colab_type": "text"
      },
      "source": [
        "##Sex and absences"
      ]
    },
    {
      "cell_type": "code",
      "metadata": {
        "id": "RZ9gz4yx80q6",
        "colab_type": "code",
        "colab": {
          "base_uri": "https://localhost:8080/",
          "height": 153
        },
        "outputId": "b2250d4d-cc35-4f4a-c2ae-8dd660cf4b59"
      },
      "source": [
        "student_xtab = pd.crosstab(student_df[\"sex\"],student_df[\"absences\"])\n",
        "print(student_xtab) #binned categories of the absences, not sure why need to do this step need to ask?\n",
        "cut_points = [0,22,23,75]\n",
        "#I am going to cr12,22,23,75] #each pair of numbers is a bin, 0-11, 12-22, 23-75\n",
        "student_df[\"absences_categories\"] = pd.cut(student_df[\"absences\"],cut_points,labels=['Low','Med','Hi'])\n",
        "student_xtab = pd.crosstab(student_df[\"sex\"],student_df[\"absences_categories\"])\n",
        "print(student_xtab)"
      ],
      "execution_count": 27,
      "outputs": [
        {
          "output_type": "stream",
          "text": [
            "absences  0   1   2   3   4   5   6   7   8   9   10  11  12  13  14  15  16  17  18  19  20  21  22  23  24  25  26  28  30  38  40  54  56  75\n",
            "sex                                                                                                                                             \n",
            "F         63   2  32   2  27   2  19   5   8   1  10   0   8   0   7   2   3   1   2   0   2   1   2   1   1   1   1   1   0   0   1   1   1   1\n",
            "M         52   1  33   6  26   3  12   2  14   2   7   3   4   3   5   1   4   0   3   1   2   0   1   0   0   0   0   0   1   1   0   0   0   0\n",
            "absences_categories  Low  Med  Hi\n",
            "sex                              \n",
            "F                    136    1   8\n",
            "M                    133    0   2\n"
          ],
          "name": "stdout"
        }
      ]
    },
    {
      "cell_type": "code",
      "metadata": {
        "id": "YfOaPf2RGrLV",
        "colab_type": "code",
        "colab": {
          "base_uri": "https://localhost:8080/",
          "height": 34
        },
        "outputId": "2a10a01d-1425-45fb-9544-1c214e8619e1"
      },
      "source": [
        "female_ab = student_xtab.iloc[0][0:4].values #return the values of a crosstab row as a array of values, use for AI training but not necesary for chi2_contigency\n",
        "print(female_ab)"
      ],
      "execution_count": 9,
      "outputs": [
        {
          "output_type": "stream",
          "text": [
            "[136   1   8]\n"
          ],
          "name": "stdout"
        }
      ]
    },
    {
      "cell_type": "code",
      "metadata": {
        "id": "JRIV-FHcIrT0",
        "colab_type": "code",
        "colab": {
          "base_uri": "https://localhost:8080/",
          "height": 34
        },
        "outputId": "5dc631d5-dc29-45a4-9c42-82d5fa23ffac"
      },
      "source": [
        "male_ab = student_xtab.iloc[1][0:4].values #return the values of a crosstab row as a array of values, use for AI training but not necesary for chi2_contigency\n",
        "print(male_ab)"
      ],
      "execution_count": 10,
      "outputs": [
        {
          "output_type": "stream",
          "text": [
            "[133   0   2]\n"
          ],
          "name": "stdout"
        }
      ]
    },
    {
      "cell_type": "markdown",
      "metadata": {
        "id": "9G2_NmEqsZqD",
        "colab_type": "text"
      },
      "source": [
        "##Chi^2 sex influence absenses"
      ]
    },
    {
      "cell_type": "code",
      "metadata": {
        "id": "Ckcr4A4FM7cs",
        "colab_type": "code",
        "colab": {
          "base_uri": "https://localhost:8080/",
          "height": 102
        },
        "outputId": "74a04c11-ecfe-485c-da10-b14a1dc6ba2d"
      },
      "source": [
        "stats.chi2_contingency(student_xtab)"
      ],
      "execution_count": 12,
      "outputs": [
        {
          "output_type": "execute_result",
          "data": {
            "text/plain": [
              "(4.2817758407041815,\n",
              " 0.11755042125810325,\n",
              " 2,\n",
              " array([[139.30357143,   0.51785714,   5.17857143],\n",
              "        [129.69642857,   0.48214286,   4.82142857]]))"
            ]
          },
          "metadata": {
            "tags": []
          },
          "execution_count": 12
        }
      ]
    },
    {
      "cell_type": "code",
      "metadata": {
        "id": "CtzdK8_cLuia",
        "colab_type": "code",
        "colab": {
          "base_uri": "https://localhost:8080/",
          "height": 136
        },
        "outputId": "d3aa574c-6100-499c-d728-7d0b5897ee68"
      },
      "source": [
        "chi_squared, p_value, dof, expected = stats.chi2_contingency(student_xtab) #so the results are nice and neat\n",
        "print(f\"Chi-Squared: {chi_squared}\")\n",
        "print(f\"P-value: {p_value}\")\n",
        "print(f\"Degrees of freedon: {dof}\")\n",
        "print(\"Expected: \\n\", np.array(expected))\n",
        "{p_value}"
      ],
      "execution_count": 13,
      "outputs": [
        {
          "output_type": "stream",
          "text": [
            "Chi-Squared: 4.2817758407041815\n",
            "P-value: 0.11755042125810325\n",
            "Degrees of freedon: 2\n",
            "Expected: \n",
            " [[139.30357143   0.51785714   5.17857143]\n",
            " [129.69642857   0.48214286   4.82142857]]\n"
          ],
          "name": "stdout"
        },
        {
          "output_type": "execute_result",
          "data": {
            "text/plain": [
              "{0.11755042125810325}"
            ]
          },
          "metadata": {
            "tags": []
          },
          "execution_count": 13
        }
      ]
    },
    {
      "cell_type": "code",
      "metadata": {
        "id": "q_WXU3G6QG90",
        "colab_type": "code",
        "colab": {
          "base_uri": "https://localhost:8080/",
          "height": 51
        },
        "outputId": "37b7b534-dd18-4a83-fcb6-6a1ed290f106"
      },
      "source": [
        "alpha = .05\n",
        "print(\"p-value from statistical test is\",p_value)\n",
        "if alpha <= {p_value}.pop():\n",
        " print(\"since \\u03B1 <= P_value: we reject the null hypothesis, therefore, the two categorical variables are dependent\")\n",
        "elif alpha > {p_value}.pop():\n",
        " print(\"since \\u03B1 > P_value: we fail to reject the null hypothesis, therefore, the two categorical variables are independent\")"
      ],
      "execution_count": 26,
      "outputs": [
        {
          "output_type": "stream",
          "text": [
            "p-value from statistical test is 0.11755042125810325\n",
            "since α <= P_value: we reject the null hypothesis, therefore, the two categorical variables are dependent\n"
          ],
          "name": "stdout"
        }
      ]
    },
    {
      "cell_type": "markdown",
      "metadata": {
        "id": "IApvIFwYs5sk",
        "colab_type": "text"
      },
      "source": [
        "##Chi^2 sex influence travel time"
      ]
    },
    {
      "cell_type": "code",
      "metadata": {
        "id": "eCv13soQuZ0o",
        "colab_type": "code",
        "colab": {
          "base_uri": "https://localhost:8080/",
          "height": 0
        },
        "outputId": "659e8afc-33ce-413e-ac58-1afd1fc3ab5f"
      },
      "source": [
        "student_tt = pd.crosstab(student_df[\"school\"],student_df[\"traveltime\"])\n",
        "print(student_tt) #binned categories of the traveltime, not sure why need to do this step need to ask?\n",
        "\"The dataset providers made binned categorical: traveltime - home to school travel time (numeric: 1 - <15 min., 2 - 15 to 30 min., 3 - 30 min. to 1 hour, or 4 - >1 hour)\"\n",
        "student_tt.columns = [\"shortest\", \"short\", \"moderate\", \"long\"]\n",
        "print(student_tt)"
      ],
      "execution_count": 21,
      "outputs": [
        {
          "output_type": "stream",
          "text": [
            "traveltime    1   2   3  4\n",
            "school                    \n",
            "GP          243  84  15  7\n",
            "MS           14  23   8  1\n",
            "        shortest  short  moderate  long\n",
            "school                                 \n",
            "GP           243     84        15     7\n",
            "MS            14     23         8     1\n"
          ],
          "name": "stdout"
        }
      ]
    },
    {
      "cell_type": "code",
      "metadata": {
        "id": "-oEh71kZtIXe",
        "colab_type": "code",
        "colab": {
          "base_uri": "https://localhost:8080/",
          "height": 0
        },
        "outputId": "36f88067-fcf6-4046-932b-3d69ff6c3154"
      },
      "source": [
        "stats.chi2_contingency(student_tt)"
      ],
      "execution_count": 22,
      "outputs": [
        {
          "output_type": "execute_result",
          "data": {
            "text/plain": [
              "(31.656123714485112,\n",
              " 6.183726050805027e-07,\n",
              " 3,\n",
              " array([[227.07088608,  94.53924051,  20.32151899,   7.06835443],\n",
              "        [ 29.92911392,  12.46075949,   2.67848101,   0.93164557]]))"
            ]
          },
          "metadata": {
            "tags": []
          },
          "execution_count": 22
        }
      ]
    },
    {
      "cell_type": "code",
      "metadata": {
        "id": "NBQxPWLOtlFl",
        "colab_type": "code",
        "colab": {
          "base_uri": "https://localhost:8080/",
          "height": 0
        },
        "outputId": "8157d8cc-d2fc-45bd-b325-12fe8f62a06d"
      },
      "source": [
        "alpha = .05\n",
        "print(\"p-value from statistical test is\",p_value)\n",
        "if alpha <= stats.chi2_contingency(student_tt)[1]:\n",
        " print(\"since \\u03B1 <= P_value we reject the null hypothesis, therefore, the two categorical variables are dependent\")\n",
        "elif alpha > stats.chi2_contingency(student_tt)[1]:\n",
        " print(\"since \\u03B1 > P_value, we fail to reject the null hypothesis, therefore, the two categorical variables are independent\")"
      ],
      "execution_count": 28,
      "outputs": [
        {
          "output_type": "stream",
          "text": [
            "p-value from statistical test is 0.11755042125810325\n",
            "since α > P_value, we fail to reject the null hypothesis, therefore, the two categorical variables are independent\n"
          ],
          "name": "stdout"
        }
      ]
    },
    {
      "cell_type": "markdown",
      "metadata": {
        "id": "Tf7XPpBP6YqX",
        "colab_type": "text"
      },
      "source": [
        "#3) Use NumPy to perform your own chi^2 test \"from scratch\" \n",
        "\n",
        "Pick any of the chi^2 tests that you ran in part 2 and try them on your own. You should get the same results that Scipy got for all four values returned from `chi2_contingency()`"
      ]
    },
    {
      "cell_type": "code",
      "metadata": {
        "colab_type": "code",
        "id": "3J2_iMVKDexT",
        "colab": {
          "base_uri": "https://localhost:8080/",
          "height": 170
        },
        "outputId": "390ac921-5f88-403a-8757-7cfe9c8e33ba"
      },
      "source": [
        "student_xtab2 = pd.crosstab(student_df[\"sex\"],student_df[\"absences\"])\n",
        "print(student_xtab2) #binned categories of the absences, not sure why need to do this step need to ask?\n",
        "cut_points = [0,22,23,75]\n",
        "#I am going to cr12,22,23,75] #each pair of numbers is a bin, 0-11, 12-22, 23-75\n",
        "student_df[\"absences_categories\"] = pd.cut(student_df[\"absences\"],cut_points,labels=['Low','Med','Hi'])\n",
        "student_xtab2 = pd.crosstab(student_df[\"sex\"],student_df[\"absences_categories\"], margins=True) #when doing it by hand need the margins rows and columns\n",
        "print(student_xtab2)"
      ],
      "execution_count": 55,
      "outputs": [
        {
          "output_type": "stream",
          "text": [
            "absences  0   1   2   3   4   5   6   7   8   9   10  11  12  13  14  15  16  17  18  19  20  21  22  23  24  25  26  28  30  38  40  54  56  75\n",
            "sex                                                                                                                                             \n",
            "F         63   2  32   2  27   2  19   5   8   1  10   0   8   0   7   2   3   1   2   0   2   1   2   1   1   1   1   1   0   0   1   1   1   1\n",
            "M         52   1  33   6  26   3  12   2  14   2   7   3   4   3   5   1   4   0   3   1   2   0   1   0   0   0   0   0   1   1   0   0   0   0\n",
            "absences_categories  Low  Med  Hi  All\n",
            "sex                                   \n",
            "F                    136    1   8  145\n",
            "M                    133    0   2  135\n",
            "All                  269    1  10  280\n"
          ],
          "name": "stdout"
        }
      ]
    },
    {
      "cell_type": "code",
      "metadata": {
        "colab_type": "code",
        "id": "1g-CRANnDexc",
        "colab": {
          "base_uri": "https://localhost:8080/",
          "height": 34
        },
        "outputId": "859b7d95-6b7b-47a9-ea3a-50f4ef1c3f13"
      },
      "source": [
        "female_ab = student_xtab2.iloc[0][0:4].values #return the values of a crosstab row as a array of values, use for AI training but not necesary for chi2_contigency\n",
        "print(female_ab)"
      ],
      "execution_count": 32,
      "outputs": [
        {
          "output_type": "stream",
          "text": [
            "[136   1   8]\n"
          ],
          "name": "stdout"
        }
      ]
    },
    {
      "cell_type": "code",
      "metadata": {
        "colab_type": "code",
        "id": "uBfHDS_pDexh",
        "colab": {
          "base_uri": "https://localhost:8080/",
          "height": 34
        },
        "outputId": "1091b613-00a0-4bd5-f819-0c81d27d759e"
      },
      "source": [
        "male_ab = student_xtab2.iloc[1][0:4].values #return the values of a crosstab row as a array of values, use for AI training but not necesary for chi2_contigency\n",
        "print(male_ab)"
      ],
      "execution_count": 33,
      "outputs": [
        {
          "output_type": "stream",
          "text": [
            "[133   0   2]\n"
          ],
          "name": "stdout"
        }
      ]
    },
    {
      "cell_type": "code",
      "metadata": {
        "id": "666-U9eCGNnB",
        "colab_type": "code",
        "colab": {
          "base_uri": "https://localhost:8080/",
          "height": 286
        },
        "outputId": "e7591af1-048c-4c9b-df97-4bf75ef4790e"
      },
      "source": [
        "from IPython.display import display, Image\n",
        "url = 'https://media.cheggcdn.com/study/ab5/ab55a54b-7490-4847-90f2-ca829fa978ec/CL-353V1.png'\n",
        "chi2 = Image(url=url, width=600)\n",
        "display(chi2)"
      ],
      "execution_count": 44,
      "outputs": [
        {
          "output_type": "display_data",
          "data": {
            "text/html": [
              "<img src=\"https://media.cheggcdn.com/study/ab5/ab55a54b-7490-4847-90f2-ca829fa978ec/CL-353V1.png\" width=\"600\"/>"
            ],
            "text/plain": [
              "<IPython.core.display.Image object>"
            ]
          },
          "metadata": {
            "tags": []
          }
        }
      ]
    },
    {
      "cell_type": "markdown",
      "metadata": {
        "id": "Mn2YqySaE6ZV",
        "colab_type": "text"
      },
      "source": [
        "\n"
      ]
    },
    {
      "cell_type": "code",
      "metadata": {
        "id": "Et5DtusY6maX",
        "colab_type": "code",
        "colab": {
          "base_uri": "https://localhost:8080/",
          "height": 51
        },
        "outputId": "509dd8de-229c-4ced-c269-fe600747370b"
      },
      "source": [
        "# Expected Frequency\n",
        "row_sums = student_xtab2.iloc[0:2, 3].values #I am returning the totals of row values, which are in the column named \"All\"\n",
        "col_sums = student_xtab2.iloc[2,0:3].values #I am returning the totals of column values, which are in the row named \"All\"\n",
        "print(row_sums)\n",
        "print(col_sums)"
      ],
      "execution_count": 76,
      "outputs": [
        {
          "output_type": "stream",
          "text": [
            "[145 135]\n",
            "[269   1  10]\n"
          ],
          "name": "stdout"
        }
      ]
    },
    {
      "cell_type": "code",
      "metadata": {
        "id": "lCGyul8-VUKk",
        "colab_type": "code",
        "colab": {
          "base_uri": "https://localhost:8080/",
          "height": 34
        },
        "outputId": "a25691f1-b399-42b4-d73b-a7d805016510"
      },
      "source": [
        "#sum of all row line from the crosstab table\n",
        "total = student_xtab2.loc[\"All\",'All']\n",
        "print(total)"
      ],
      "execution_count": 79,
      "outputs": [
        {
          "output_type": "stream",
          "text": [
            "280\n"
          ],
          "name": "stdout"
        }
      ]
    },
    {
      "cell_type": "code",
      "metadata": {
        "id": "0pJchEc9WgCY",
        "colab_type": "code",
        "colab": {
          "base_uri": "https://localhost:8080/",
          "height": 85
        },
        "outputId": "5243869a-ca87-46ec-b078-1b898f49475a"
      },
      "source": [
        "expected = [] #this is use to get the expected values of the chi-square, chi2_contingency()\n",
        "for i in range(len(row_sums)):\n",
        "  expected_row = []\n",
        "  for column in col_sums:\n",
        "    expected_val = column*row_sums[i]/total\n",
        "    expected_row.append(expected_val)\n",
        "  expected.append(expected_row)\n",
        "print(expected)\n",
        "expected = np.array(expected) #We want to convert this into a np.array so we can use the arithmetic ability of pandas.\n",
        "print(expected.shape)\n",
        "print(expected)"
      ],
      "execution_count": 90,
      "outputs": [
        {
          "output_type": "stream",
          "text": [
            "[[139.30357142857142, 0.5178571428571429, 5.178571428571429], [129.69642857142858, 0.48214285714285715, 4.821428571428571]]\n",
            "(2, 3)\n",
            "[[139.30357143   0.51785714   5.17857143]\n",
            " [129.69642857   0.48214286   4.82142857]]\n"
          ],
          "name": "stdout"
        }
      ]
    },
    {
      "cell_type": "markdown",
      "metadata": {
        "id": "bOO6V6XcfL6z",
        "colab_type": "text"
      },
      "source": [
        "##Observed values"
      ]
    },
    {
      "cell_type": "code",
      "metadata": {
        "id": "ODpjFguYX_BI",
        "colab_type": "code",
        "colab": {
          "base_uri": "https://localhost:8080/",
          "height": 68
        },
        "outputId": "69b368f3-b972-43c9-bdab-49dacf2dc912"
      },
      "source": [
        "observed = pd.crosstab(student_df[\"sex\"],student_df[\"absences_categories\"]).values #recreating crostab to return all individual values, without the margins, it think iloc will work as well.\n",
        "print(observed.shape)\n",
        "print(observed)"
      ],
      "execution_count": 87,
      "outputs": [
        {
          "output_type": "stream",
          "text": [
            "(2, 3)\n",
            "[[136   1   8]\n",
            " [133   0   2]]\n"
          ],
          "name": "stdout"
        }
      ]
    },
    {
      "cell_type": "code",
      "metadata": {
        "id": "EEi5Qmr5fo_M",
        "colab_type": "code",
        "colab": {
          "base_uri": "https://localhost:8080/",
          "height": 51
        },
        "outputId": "f0bf0e9e-8396-4f65-8ab5-d361efdd9901"
      },
      "source": [
        "chi_squared_2 =((observed-expected)**2/(expected)).sum() #I call it chi_squared_2 because I have use chi_square before that variable before on this colab\n",
        "print(type(((observed-expected)**2/(expected)).sum()))\n",
        "print(f\"Chi-Squared:{chi_squared_2}\") #this is the chi_squared value"
      ],
      "execution_count": 94,
      "outputs": [
        {
          "output_type": "stream",
          "text": [
            "<class 'numpy.float64'>\n",
            "Degrees of freedom:4.2817758407041815\n"
          ],
          "name": "stdout"
        }
      ]
    },
    {
      "cell_type": "code",
      "metadata": {
        "id": "fmmhmhPaisA6",
        "colab_type": "code",
        "colab": {
          "base_uri": "https://localhost:8080/",
          "height": 34
        },
        "outputId": "e5cbe3ca-b709-49d3-9cea-e1eaf3c6b0f1"
      },
      "source": [
        "#Degrees of freedom of a chi-squared test\n",
        "#get it for both the columns and rows\n",
        "dof_2 = (len(row_sums)-1)*(len(col_sums)-1) #I have use dof variable previously so use ..._2 instead\n",
        "print(f\"Degrees of freedom: {dof_2}\") #results is basically daframeshape(2,3) ((2-1)*(3-1))"
      ],
      "execution_count": 95,
      "outputs": [
        {
          "output_type": "stream",
          "text": [
            "Degrees of freedom: 2\n"
          ],
          "name": "stdout"
        }
      ]
    },
    {
      "cell_type": "code",
      "metadata": {
        "id": "qWfpq7eElZvI",
        "colab_type": "code",
        "colab": {}
      },
      "source": [
        ""
      ],
      "execution_count": null,
      "outputs": []
    },
    {
      "cell_type": "markdown",
      "metadata": {
        "id": "a2BrKHq8m8AS",
        "colab_type": "text"
      },
      "source": [
        "## Stretch goals:\n",
        "\n",
        "### 1. Refactor your code so it is elegant, readable, and holds reusable code in functions."
      ]
    },
    {
      "cell_type": "code",
      "metadata": {
        "id": "AntnuAkFm-JQ",
        "colab_type": "code",
        "colab": {}
      },
      "source": [
        "# YOUR WORK HERE"
      ],
      "execution_count": 16,
      "outputs": []
    },
    {
      "cell_type": "markdown",
      "metadata": {
        "id": "4ohsJhQUmEuS",
        "colab_type": "text"
      },
      "source": [
        "\n",
        "\n",
        "### 2. Check For Understanding - Study and write your own explanations/definitions for these topics:\n",
        "\n",
        "- What is a sample \"estimate\" in statistics?\n",
        "\n",
        "- What are hypothesis test? How are they useful?\n",
        "\n",
        "- What is a \"null hypothesis?\"\n",
        "\n",
        "- What is a p-value and what does it represent?\n",
        "\n",
        "- What does it mean for something to be \"statistically significant?\"\n",
        "\n",
        "- What is a test statistic and how does it relate to a p-value?\n",
        "\n",
        "- What are \"degrees of freedom\" and how are they calculated in a 1-sample, 2-sample, and chi^2 test for independence?"
      ]
    },
    {
      "cell_type": "markdown",
      "metadata": {
        "id": "nyJ3ySr7R2k9",
        "colab_type": "text"
      },
      "source": [
        "## Resources\n",
        "\n",
        "- [Interactive visualize the Chi-Squared test](https://homepage.divms.uiowa.edu/~mbognar/applets/chisq.html)\n",
        "- [Calculation of Chi-Squared test statistic](https://en.wikipedia.org/wiki/Pearson%27s_chi-squared_test)\n",
        "- [Visualization of a confidence interval generated by R code](https://commons.wikimedia.org/wiki/File:Confidence-interval.svg)\n",
        "- [Expected value of a squared standard normal](https://math.stackexchange.com/questions/264061/expected-value-calculation-for-squared-normal-distribution) (it's 1 - which is why the expected value of a Chi-Squared with $n$ degrees of freedom is $n$, as it's the sum of $n$ squared standard normals)"
      ]
    }
  ]
}
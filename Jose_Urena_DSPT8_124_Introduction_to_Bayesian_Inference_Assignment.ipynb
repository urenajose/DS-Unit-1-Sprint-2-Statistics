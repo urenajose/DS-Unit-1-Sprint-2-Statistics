{
  "nbformat": 4,
  "nbformat_minor": 0,
  "metadata": {
    "colab": {
      "name": "Jose_Urena_DSPT8_124_Introduction_to_Bayesian_Inference_Assignment.ipynb",
      "provenance": [],
      "collapsed_sections": [],
      "include_colab_link": true
    },
    "kernelspec": {
      "name": "python3",
      "display_name": "Python 3"
    }
  },
  "cells": [
    {
      "cell_type": "markdown",
      "metadata": {
        "id": "view-in-github",
        "colab_type": "text"
      },
      "source": [
        "<a href=\"https://colab.research.google.com/github/urenajose/DS-Unit-1-Sprint-2-Statistics/blob/master/Jose_Urena_DSPT8_124_Introduction_to_Bayesian_Inference_Assignment.ipynb\" target=\"_parent\"><img src=\"https://colab.research.google.com/assets/colab-badge.svg\" alt=\"Open In Colab\"/></a>"
      ]
    },
    {
      "cell_type": "markdown",
      "metadata": {
        "id": "H7OLbevlbd_Z",
        "colab_type": "text"
      },
      "source": [
        "# Lambda School Data Science Module 124\n",
        "\n",
        "## Introduction to Bayesian Inference\n",
        "\n",
        "\n"
      ]
    },
    {
      "cell_type": "markdown",
      "metadata": {
        "id": "P-DzzRk5bf0z",
        "colab_type": "text"
      },
      "source": [
        "## Assignment - Code it up!\n",
        "\n",
        "We used pure math to apply Bayes Theorem to drug tests. Now write Python code to reproduce the results! This is purposefully open ended - you'll have to think about how you should represent probabilities and events. You can and should look things up.\n",
        "\n",
        "Specific goals/targets:\n",
        "\n",
        "### 1) Write a function \n",
        "\n",
        "`def prob_drunk_given_positive(prob_drunk_prior, false_positive_rate, true_positive_rate):` \n",
        "\n",
        "You should only truly need these three values in order to apply Bayes Theorem. In this example, imagine that individuals are taking a breathalyzer test with an 8% false positive rate, a 100% true positive rate, and that our prior belief about drunk driving in the population is 1/1000. \n",
        " - What is the probability that a person is drunk after one positive breathalyzer test?\n",
        " - What is the probability that a person is drunk after two positive breathalyzer tests?\n",
        " - How many positive breathalyzer tests are needed in order to have a probability that's greater than 95% that a person is drunk beyond the legal limit?\n"
      ]
    },
    {
      "cell_type": "code",
      "metadata": {
        "id": "qFxwZCcjzqVp",
        "colab_type": "code",
        "colab": {}
      },
      "source": [
        "import numpy as np"
      ],
      "execution_count": null,
      "outputs": []
    },
    {
      "cell_type": "code",
      "metadata": {
        "id": "xpVhZyUnbf7o",
        "colab_type": "code",
        "colab": {}
      },
      "source": [
        "# TODO - code!\n",
        "def prob_drunk_given_positive(prob_drunk_prior, false_positive_rate, true_positive_rate):\n",
        "  prob_notdrunk = 1-prob_drunk_prior\n",
        "  numerator = (true_positive_rate*prob_drunk_prior)\n",
        "  denom = (true_positive_rate*prob_drunk_prior)+(false_positive_rate*prob_notdrunk)\n",
        "  posterior = (numerator/denom)\n",
        "  return posterior"
      ],
      "execution_count": null,
      "outputs": []
    },
    {
      "cell_type": "markdown",
      "metadata": {
        "id": "e_y5SvzO8O6Z",
        "colab_type": "text"
      },
      "source": [
        "##individual test"
      ]
    },
    {
      "cell_type": "code",
      "metadata": {
        "id": "3xs4MbAqedzb",
        "colab_type": "code",
        "colab": {
          "base_uri": "https://localhost:8080/",
          "height": 34
        },
        "outputId": "3d7cecdf-7b34-4dd4-9890-b4348da1ed82"
      },
      "source": [
        "#probability that a person is drunk after one breathalyzer test:\n",
        "previous_test = prob_drunk_given_positive(1/1000, .08, 1)\n",
        "print(previous_test)"
      ],
      "execution_count": null,
      "outputs": [
        {
          "output_type": "stream",
          "text": [
            "0.012357884330202669\n"
          ],
          "name": "stdout"
        }
      ]
    },
    {
      "cell_type": "code",
      "metadata": {
        "id": "Ka3T3LOxe9Cy",
        "colab_type": "code",
        "colab": {
          "base_uri": "https://localhost:8080/",
          "height": 34
        },
        "outputId": "be1f9ac9-3b64-4e00-c9ed-00e1b7c9fd23"
      },
      "source": [
        "#second test\n",
        "previous_test2 = prob_drunk_given_positive(previous_test, 1-previous_test, 1)\n",
        "print(previous_test2)"
      ],
      "execution_count": null,
      "outputs": [
        {
          "output_type": "stream",
          "text": [
            "0.012510578024572927\n"
          ],
          "name": "stdout"
        }
      ]
    },
    {
      "cell_type": "markdown",
      "metadata": {
        "id": "C-rkQ7E-7ODJ",
        "colab_type": "text"
      },
      "source": [
        "## code for number of positive test that I need it for a probability > 95% that a person is drunk beyond the leagal limit."
      ]
    },
    {
      "cell_type": "code",
      "metadata": {
        "id": "7pF1qdHLzY5F",
        "colab_type": "code",
        "colab": {
          "base_uri": "https://localhost:8080/"
        },
        "outputId": "932f92c0-0bb0-4d63-b37e-4f98fcfaea91"
      },
      "source": [
        "test_results = []\n",
        "for pa in np.arange(95):\n",
        "  previous_test = prob_drunk_given_positive(previous_test, 1-previous_test, 1)\n",
        "  test_results.append(previous_test)\n",
        "for item in enumerate(test_results):\n",
        " print(item)"
      ],
      "execution_count": null,
      "outputs": [
        {
          "output_type": "stream",
          "text": [
            "(0, 0.012510578024572927)\n",
            "(1, 0.01266706778385291)\n",
            "(2, 0.01282749631834368)\n",
            "(3, 0.012992013557949187)\n",
            "(4, 0.01316077711326872)\n",
            "(5, 0.013333952772398171)\n",
            "(6, 0.013511715036701701)\n",
            "(7, 0.013694247699159565)\n",
            "(8, 0.013881744469283589)\n",
            "(9, 0.014074409649024308)\n",
            "(10, 0.014272458864579769)\n",
            "(11, 0.014476119859562714)\n",
            "(12, 0.014685633355598918)\n",
            "(13, 0.014901253987124689)\n",
            "(14, 0.015123251317937517)\n",
            "(15, 0.015351910947943715)\n",
            "(16, 0.015587535719556274)\n",
            "(17, 0.01583044703434307)\n",
            "(18, 0.016080986291830975)\n",
            "(19, 0.016339516463860265)\n",
            "(20, 0.016606423819584826)\n",
            "(21, 0.016882119818161113)\n",
            "(22, 0.01716704318840298)\n",
            "(23, 0.01746166221724791)\n",
            "(24, 0.017766477271838867)\n",
            "(25, 0.018082023583442578)\n",
            "(26, 0.018408874325378587)\n",
            "(27, 0.018747644021719818)\n",
            "(28, 0.019098992328858606)\n",
            "(29, 0.019463628238249504)\n",
            "(30, 0.019842314755907232)\n",
            "(31, 0.020235874122755126)\n",
            "(32, 0.02064519364992895)\n",
            "(33, 0.02107123225493898)\n",
            "(34, 0.021515027798540656)\n",
            "(35, 0.021977705338704155)\n",
            "(36, 0.02246048643775035)\n",
            "(37, 0.022964699682209294)\n",
            "(38, 0.02349179260309183)\n",
            "(39, 0.02404334521808743)\n",
            "(40, 0.02462108545801307)\n",
            "(41, 0.025226906789277317)\n",
            "(42, 0.02586288840425733)\n",
            "(43, 0.026531318424939325)\n",
            "(44, 0.027234720655292585)\n",
            "(45, 0.027975885528927404)\n",
            "(46, 0.028757906036166365)\n",
            "(47, 0.02958421958592111)\n",
            "(48, 0.030458656972091155)\n",
            "(49, 0.03138549988390762)\n",
            "(50, 0.032369548741025794)\n",
            "(51, 0.03341620306892705)\n",
            "(52, 0.03453155718743778)\n",
            "(53, 0.035722514704282164)\n",
            "(54, 0.03699692624022936)\n",
            "(55, 0.03836375603638101)\n",
            "(56, 0.039833284709889255)\n",
            "(57, 0.04141735757538958)\n",
            "(58, 0.04312969083876638)\n",
            "(59, 0.04498625188808995)\n",
            "(60, 0.047005735274111136)\n",
            "(61, 0.049210163405384234)\n",
            "(62, 0.051625651394561135)\n",
            "(63, 0.054283390256909606)\n",
            "(64, 0.05722092387710064)\n",
            "(65, 0.06048382607724685)\n",
            "(66, 0.06412792986293643)\n",
            "(67, 0.06822232971687484)\n",
            "(68, 0.07285348309539341)\n",
            "(69, 0.07813090148969491)\n",
            "(70, 0.08419518276682546)\n",
            "(71, 0.09122956163867124)\n",
            "(72, 0.09947686292750636)\n",
            "(73, 0.10926495009649438)\n",
            "(74, 0.12104587560519146)\n",
            "(75, 0.13545773491584528)\n",
            "(76, 0.1534251965928331)\n",
            "(77, 0.1763276765517306)\n",
            "(78, 0.20628819578981106)\n",
            "(79, 0.24667754264755326)\n",
            "(80, 0.30297954440965935)\n",
            "(81, 0.38409354944731167)\n",
            "(82, 0.5031127718403741)\n",
            "(83, 0.6708083628591325)\n",
            "(84, 0.8609207625170547)\n",
            "(85, 0.9780258663723245)\n",
            "(86, 0.9995065322010777)\n",
            "(87, 0.9999997563693669)\n",
            "(88, 0.9999999999999406)\n",
            "(89, 1.0)\n",
            "(90, 1.0)\n",
            "(91, 1.0)\n",
            "(92, 1.0)\n",
            "(93, 1.0)\n",
            "(94, 1.0)\n"
          ],
          "name": "stdout"
        }
      ]
    },
    {
      "cell_type": "markdown",
      "metadata": {
        "id": "lmtS-Qsp8JRh",
        "colab_type": "text"
      },
      "source": [
        "##Answer"
      ]
    },
    {
      "cell_type": "code",
      "metadata": {
        "id": "yKe_vAl_0jXo",
        "colab_type": "code",
        "colab": {
          "base_uri": "https://localhost:8080/",
          "height": 35
        },
        "outputId": "9146c61a-ec1a-4213-bd56-560d9de08cf6"
      },
      "source": [
        "\"test conclusion is that it will take \\ 85 positive breathalyzer tests are needed in order to have a probability that's greater than 95% that a person is drunk beyond the legal limit\""
      ],
      "execution_count": null,
      "outputs": [
        {
          "output_type": "execute_result",
          "data": {
            "application/vnd.google.colaboratory.intrinsic+json": {
              "type": "string"
            },
            "text/plain": [
              "\"test conclusion is that it will take 85 positive breathalyzer tests are needed in order to have a probability that's greater than 95% that a person is drunk beyond the legal limit\""
            ]
          },
          "metadata": {
            "tags": []
          },
          "execution_count": 7
        }
      ]
    },
    {
      "cell_type": "markdown",
      "metadata": {
        "id": "nhOAsLjvCSLF",
        "colab_type": "text"
      },
      "source": [
        "### 2) In your own words, summarize the difference between Bayesian and Frequentist statistics\n",
        "\n",
        "If you're unsure where to start, check out [this blog post of Bayes theorem with Python](https://dataconomy.com/2015/02/introduction-to-bayes-theorem-with-python/)."
      ]
    },
    {
      "cell_type": "code",
      "metadata": {
        "id": "E4GTtwCfEGNN",
        "colab_type": "code",
        "colab": {
          "base_uri": "https://localhost:8080/",
          "height": 86
        },
        "outputId": "4d938a82-2f95-4dd0-ca43-5d217cdcb04c"
      },
      "source": [
        "\"\"\"Difference between Bayesian and Frequentist starts with information or data needed to use selected method.\n",
        "Bayesian required prior probabilities of observations and ads confidence in data as you perform the test(s).\n",
        "Frequentist begins with abstract experiment were prior probabilities of the observations are not require, just sample data.\n",
        "Frequentist starts with the notion that sample data is representative and observations are true, until proven otherwise.\n",
        "Bayesian has broader view of usage for its probabilities methods and starts its test without assumptions of truth of hypothesis.\n",
        "Frequentist in my opinion have a more strict view of probability usage, and hypothesis.\"\"\""
      ],
      "execution_count": null,
      "outputs": [
        {
          "output_type": "execute_result",
          "data": {
            "application/vnd.google.colaboratory.intrinsic+json": {
              "type": "string"
            },
            "text/plain": [
              "'Difference between Bayesian and Frequentist starts with information or data needed to use selected method.\\nBayesian required prior probabilities of observations and ads confidence in data as you perform the test(s).\\nFrequentist begins with abstract experiment were prior probabilities of the observations are not require, just sample data.\\nFrequentist starts with the notion that sample data is representative and observations are true, until proven otherwise.\\nBayesian has broader view of usage for its probabilities methods and starts its test without assumptions of truth of hypothesis.\\nFrequentist in my opinion have a more strict view of probability usage, and hypothesis.'"
            ]
          },
          "metadata": {
            "tags": []
          },
          "execution_count": 11
        }
      ]
    },
    {
      "cell_type": "markdown",
      "metadata": {
        "id": "QyFn3VRA9LUC",
        "colab_type": "text"
      },
      "source": [
        ""
      ]
    },
    {
      "cell_type": "markdown",
      "metadata": {
        "id": "AeAGBxWjCTv3",
        "colab_type": "text"
      },
      "source": [
        "### 3) Use the following Template to help come up with ideas for your Build Sprint Project: \n",
        "\n"
      ]
    },
    {
      "cell_type": "markdown",
      "metadata": {
        "id": "YgIaBr__C5Q2",
        "colab_type": "text"
      },
      "source": [
        "---\n",
        "\n",
        "## Idea 1:"
      ]
    },
    {
      "cell_type": "code",
      "metadata": {
        "id": "f3Edk8oyRBJy",
        "colab_type": "code",
        "colab": {
          "base_uri": "https://localhost:8080/",
          "height": 50
        },
        "outputId": "18fd91c0-eea0-49f3-9b4d-516f9888513b"
      },
      "source": [
        "print(\"\\033[1;37;42m Analyze voter participation levels within my community, and produce insides about citizen participation in our democracy.   \\n\")"
      ],
      "execution_count": null,
      "outputs": [
        {
          "output_type": "stream",
          "text": [
            "\u001b[1;37;42m Analyze voter participation levels within my community, and produce insides about citizen participation in our democracy.   \n",
            "\n"
          ],
          "name": "stdout"
        }
      ]
    },
    {
      "cell_type": "markdown",
      "metadata": {
        "id": "MwR6hTB1CiLR",
        "colab_type": "text"
      },
      "source": [
        "### You\n",
        "What do you care about?\n",
        "\n",
        "What do you know about?\n",
        "\n",
        "What decisions do you face?\n",
        "\n",
        "\n"
      ]
    },
    {
      "cell_type": "code",
      "metadata": {
        "id": "asP5728dSppk",
        "colab_type": "code",
        "colab": {
          "base_uri": "https://localhost:8080/",
          "height": 87
        },
        "outputId": "932625b9-0b81-44ac-8a9a-b4357d9f6bf7"
      },
      "source": [
        "print(\"1-Our system of democracy and foundations as a republic \\n\"\n",
        "\"2-I have live outside of the united states, travel extensively and study national and global history, seen and understand what happens when a nation does not have a republic with our principals and democratic institutions \\n\"\n",
        "\"3-what data to include and how best present the data, to non technical people\")"
      ],
      "execution_count": null,
      "outputs": [
        {
          "output_type": "stream",
          "text": [
            "1- our system of democracy and foundations as a republic \n",
            "2-I have live outside of the united states, travel extensively and study global history, seen and understand what happens when a nation does not have a republic with our principals and democratic institutions \n",
            "3-what data to include and how best present the data, to non technical people\n"
          ],
          "name": "stdout"
        }
      ]
    },
    {
      "cell_type": "markdown",
      "metadata": {
        "id": "lorLHSkzClzC",
        "colab_type": "text"
      },
      "source": [
        "### Seven templates\n",
        "\n",
        "In order to better understand the prompts here, please review the [Priceonomics Content Marketing Templates](https://priceonomics.com/introducing-priceonomics-content-marketing/)\n",
        "\n",
        "Can you apply the templates to your topics?\n",
        "\n",
        "**Geographic Variation:**\n",
        "\n",
        "**Trend related to the news:**\n",
        "\n",
        "**Who does that?:**\n",
        "\n",
        "**Answering a question people care about:**\n",
        "\n",
        "**Valuable to businesses:**\n",
        "\n",
        "**What's the most popular?:**\n",
        "\n",
        "**Cost/Money rankings:**"
      ]
    },
    {
      "cell_type": "markdown",
      "metadata": {
        "id": "cjxeN9D7Cygt",
        "colab_type": "text"
      },
      "source": [
        ""
      ]
    },
    {
      "cell_type": "markdown",
      "metadata": {
        "id": "3OXCCIT6C_p0",
        "colab_type": "text"
      },
      "source": [
        "### Misconceptions\n",
        "\n",
        "What misconceptions do people have about your topic?"
      ]
    },
    {
      "cell_type": "code",
      "metadata": {
        "id": "4iVBlay2UG1j",
        "colab_type": "code",
        "colab": {
          "base_uri": "https://localhost:8080/",
          "height": 67
        },
        "outputId": "9eb32889-7076-4237-ebe6-5f7c98b52e56"
      },
      "source": [
        "print(\"1-That democracy without mass citizen participation works \\n\"\n",
        "\"2-Hypothesis: we have extreme low levels of citizen participation in our democratic process\\n\")"
      ],
      "execution_count": null,
      "outputs": [
        {
          "output_type": "stream",
          "text": [
            "1-That democracy without mass citizen participation works \n",
            "2-Hypothesis: we have extreme low levels of citizen participation in our democratic process\n",
            "\n"
          ],
          "name": "stdout"
        }
      ]
    },
    {
      "cell_type": "markdown",
      "metadata": {
        "id": "kZAkrgTUDCjF",
        "colab_type": "text"
      },
      "source": [
        ""
      ]
    },
    {
      "cell_type": "markdown",
      "metadata": {
        "id": "3tNrndE9DD3-",
        "colab_type": "text"
      },
      "source": [
        "### Examples\n",
        "\n",
        "What data storytelling example inspires you?\n",
        "\n",
        "Could you do a new hypothesis, for the same question?\n",
        "\n",
        "Could you do a new question, for the same topic?\n",
        "\n",
        "Could you do a new topic, with the same \"style\"?"
      ]
    },
    {
      "cell_type": "markdown",
      "metadata": {
        "id": "-5NsWQy5DKoR",
        "colab_type": "text"
      },
      "source": [
        ""
      ]
    },
    {
      "cell_type": "code",
      "metadata": {
        "id": "uXo0L8eQZBSc",
        "colab_type": "code",
        "colab": {}
      },
      "source": [
        "\"1- https://fivethirtyeight.com/features/historic-turnout-in-2020-not-so-far/ \\n\"\n",
        "\"2- no really \\n\"\n",
        "\"3- level of participation base on my-state-county and demographics\\n\"\n",
        "\"4- More granular information about demographics\""
      ],
      "execution_count": null,
      "outputs": []
    },
    {
      "cell_type": "markdown",
      "metadata": {
        "id": "9rPtMFB6DN7B",
        "colab_type": "text"
      },
      "source": [
        "###Data\n",
        "\n",
        "Where could you search for data about your topic?"
      ]
    },
    {
      "cell_type": "markdown",
      "metadata": {
        "id": "3ScUqa-JZxYO",
        "colab_type": "text"
      },
      "source": [
        "http://edr.state.fl.us/Content/census-redistricting/2020redistricting/index.cfm"
      ]
    },
    {
      "cell_type": "markdown",
      "metadata": {
        "id": "3gkE7C4YZ_6Q",
        "colab_type": "text"
      },
      "source": [
        "http://edr.state.fl.us/Content/conferences/population/ComponentsofChange.pdf"
      ]
    },
    {
      "cell_type": "markdown",
      "metadata": {
        "id": "dwb0k1spaHBv",
        "colab_type": "text"
      },
      "source": [
        "http://edr.state.fl.us/Content/population-demographics/data/2019_Pop_Estimates.pdf"
      ]
    },
    {
      "cell_type": "markdown",
      "metadata": {
        "id": "RSoCHowbaQvc",
        "colab_type": "text"
      },
      "source": [
        "http://edr.state.fl.us/Content/conferences/population/ComponentsofChange.pdf"
      ]
    },
    {
      "cell_type": "markdown",
      "metadata": {
        "id": "s9hqjOlhDTDa",
        "colab_type": "text"
      },
      "source": [
        ""
      ]
    },
    {
      "cell_type": "markdown",
      "metadata": {
        "colab_type": "text",
        "id": "ld5MOaFaDVSK"
      },
      "source": [
        "---\n",
        "\n",
        "## Idea 2:"
      ]
    },
    {
      "cell_type": "markdown",
      "metadata": {
        "id": "IDh6ctpKcktn",
        "colab_type": "text"
      },
      "source": [
        "Analyze homelessness within my community, and produce insides about the issue."
      ]
    },
    {
      "cell_type": "markdown",
      "metadata": {
        "id": "Za0BRzKhbtb7",
        "colab_type": "text"
      },
      "source": [
        ""
      ]
    },
    {
      "cell_type": "markdown",
      "metadata": {
        "colab_type": "text",
        "id": "znhTWIlUDVSM"
      },
      "source": [
        "### You\n",
        "What do you care about?\n",
        "\n",
        "What do you know about?\n",
        "\n",
        "What decisions do you face?\n",
        "\n"
      ]
    },
    {
      "cell_type": "code",
      "metadata": {
        "id": "7v1NhjHEcxak",
        "colab_type": "code",
        "colab": {}
      },
      "source": [
        "\"1-bringing attention and action to the problems of homelessness in my community \\n\"\n",
        "\"2-only anecdotal information and surface numbers\"\n",
        "\"3-What areas of groups to focus on \""
      ],
      "execution_count": null,
      "outputs": []
    },
    {
      "cell_type": "markdown",
      "metadata": {
        "colab_type": "text",
        "id": "3Gln5mYeDVSM"
      },
      "source": [
        ""
      ]
    },
    {
      "cell_type": "markdown",
      "metadata": {
        "colab_type": "text",
        "id": "W-njBredDVSN"
      },
      "source": [
        "### Seven templates\n",
        "\n",
        "In order to better understand the prompts here, please review the [Priceonomics Content Marketing Templates](https://priceonomics.com/introducing-priceonomics-content-marketing/)\n",
        "\n",
        "Can you apply the templates to your topics?\n",
        "\n",
        "**Geographic Variation:**\n",
        "\n",
        "**Trend related to the news:**\n",
        "\n",
        "**Who does that?:**\n",
        "\n",
        "**Answering a question people care about:**\n",
        "\n",
        "**Valuable to businesses:**\n",
        "\n",
        "**What's the most popular?:**\n",
        "\n",
        "**Cost/Money rankings:**"
      ]
    },
    {
      "cell_type": "markdown",
      "metadata": {
        "colab_type": "text",
        "id": "pkOqHHL3DVSN"
      },
      "source": [
        ""
      ]
    },
    {
      "cell_type": "markdown",
      "metadata": {
        "colab_type": "text",
        "id": "njLQ3hLuDVSO"
      },
      "source": [
        "### Misconceptions\n",
        "\n",
        "What misconceptions do people have about your topic?"
      ]
    },
    {
      "cell_type": "markdown",
      "metadata": {
        "id": "qLqo3PJwdcX2",
        "colab_type": "text"
      },
      "source": [
        "The size of the problem, how much of a impact it has on fellow humans to be without secure shelter."
      ]
    },
    {
      "cell_type": "markdown",
      "metadata": {
        "colab_type": "text",
        "id": "IzrUvaKeDVSO"
      },
      "source": [
        ""
      ]
    },
    {
      "cell_type": "markdown",
      "metadata": {
        "colab_type": "text",
        "id": "L0X6X5WaDVSP"
      },
      "source": [
        "### Examples\n",
        "\n",
        "What data storytelling example inspires you?\n",
        "\n",
        "Could you do a new hypothesis, for the same question?\n",
        "\n",
        "Could you do a new question, for the same topic?\n",
        "\n",
        "Could you do a new topic, with the same \"style\"?"
      ]
    },
    {
      "cell_type": "code",
      "metadata": {
        "id": "YspBUr6FgwZt",
        "colab_type": "code",
        "colab": {
          "base_uri": "https://localhost:8080/",
          "height": 50
        },
        "outputId": "b4939396-2ca8-4686-92a3-e1f607ae0c12"
      },
      "source": [
        "print(\"1-in my teens and early 20's I volunteer to feed the homeless in NY. I distant my self from the issue, \\n but I want to take the opportunity to become involve with the issue once again.\")"
      ],
      "execution_count": 2,
      "outputs": [
        {
          "output_type": "stream",
          "text": [
            "1-in my teens and early 20's I volunteer to feed the homeless in NY. I distant my self from the issue, \n",
            " but I want to take the opportunity to become involve with the issue once again.\n"
          ],
          "name": "stdout"
        }
      ]
    },
    {
      "cell_type": "markdown",
      "metadata": {
        "id": "oT2KK3s3hHud",
        "colab_type": "text"
      },
      "source": [
        "https://www.youtube.com/watch?v=KBWflF2jo1k I also was move by this story"
      ]
    },
    {
      "cell_type": "code",
      "metadata": {
        "id": "K0iK3nn2hX55",
        "colab_type": "code",
        "colab": {}
      },
      "source": [
        "\"Don't think I could with a better hypothesis\""
      ],
      "execution_count": null,
      "outputs": []
    },
    {
      "cell_type": "code",
      "metadata": {
        "id": "Me780tKnhcUH",
        "colab_type": "code",
        "colab": {}
      },
      "source": [
        "\"Show actual size of the problem, how affects people accross the board social/economical/race etc\""
      ],
      "execution_count": 2,
      "outputs": []
    },
    {
      "cell_type": "markdown",
      "metadata": {
        "id": "q96wkzolhp1V",
        "colab_type": "text"
      },
      "source": [
        ""
      ]
    },
    {
      "cell_type": "markdown",
      "metadata": {
        "colab_type": "text",
        "id": "CxgSpiwYDVSQ"
      },
      "source": [
        "###Data\n",
        "\n",
        "Where could you search for data about your topic?"
      ]
    },
    {
      "cell_type": "markdown",
      "metadata": {
        "id": "uWgWjp3PQ3Sq",
        "colab_type": "text"
      },
      "source": [
        "https://www.hudexchange.info/resource/5948/2019-ahar-part-1-pit-estimates-of-homelessness-in-the-us/"
      ]
    },
    {
      "cell_type": "markdown",
      "metadata": {
        "id": "NpDvsiqaijoK",
        "colab_type": "text"
      },
      "source": [
        "https://endhomelessness.org/homelessness-in-america/homelessness-statistics/state-of-homelessness-2020/"
      ]
    },
    {
      "cell_type": "markdown",
      "metadata": {
        "id": "DplCf4gMimuy",
        "colab_type": "text"
      },
      "source": [
        "http://fchonline.org/wp-content/uploads/2015/12/The-High-Cost-of-Being-Poor-in-Florida-1.pdf"
      ]
    },
    {
      "cell_type": "markdown",
      "metadata": {
        "id": "u6x0Ekz9iWW-",
        "colab_type": "text"
      },
      "source": [
        "##Resources"
      ]
    },
    {
      "cell_type": "markdown",
      "metadata": {
        "id": "QRgHqmYIQ9qn",
        "colab_type": "text"
      },
      "source": [
        "- [Worked example of Bayes rule calculation](https://en.wikipedia.org/wiki/Bayes'_theorem#Examples) (helpful as it fully breaks out the denominator)\n",
        "- [Source code for mvsdist in scipy](https://github.com/scipy/scipy/blob/90534919e139d2a81c24bf08341734ff41a3db12/scipy/stats/morestats.py#L139)"
      ]
    },
    {
      "cell_type": "markdown",
      "metadata": {
        "id": "GP7Jv1XvwtkX",
        "colab_type": "text"
      },
      "source": [
        "## Stretch Goals:\n",
        "\n",
        "- Go back and study the content from Modules 1 & 2 & 3 to make sure that you're really comfortable with them.\n",
        "- Apply a Bayesian technique to a problem you previously worked (in an assignment or project work) on from a frequentist (standard) perspective\n",
        "- Check out [PyMC3](https://docs.pymc.io/) (note this goes beyond hypothesis tests into modeling) - read the guides and work through some examples\n",
        "- Take PyMC3 further - see if you can build something with it!"
      ]
    }
  ]
}